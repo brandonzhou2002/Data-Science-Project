{
 "cells": [
  {
   "cell_type": "code",
   "execution_count": 1,
   "id": "02c9233a",
   "metadata": {
    "_cell_guid": "b1076dfc-b9ad-4769-8c92-a6c4dae69d19",
    "_uuid": "8f2839f25d086af736a60e9eeb907d3b93b6e0e5",
    "execution": {
     "iopub.execute_input": "2023-04-16T03:58:06.947167Z",
     "iopub.status.busy": "2023-04-16T03:58:06.946166Z",
     "iopub.status.idle": "2023-04-16T03:58:08.727713Z",
     "shell.execute_reply": "2023-04-16T03:58:08.726953Z",
     "shell.execute_reply.started": "2022-05-05T20:02:14.189926Z"
    },
    "papermill": {
     "duration": 1.809686,
     "end_time": "2023-04-16T03:58:08.727917",
     "exception": false,
     "start_time": "2023-04-16T03:58:06.918231",
     "status": "completed"
    },
    "tags": []
   },
   "outputs": [
    {
     "name": "stdout",
     "output_type": "stream",
     "text": [
      "/kaggle/input/netflix-subscription-price-in-different-countries/Netflix subscription fee Dec-2021.csv\n",
      "/kaggle/input/netflix-subscription-price-in-different-countries/netflix price in different countries.csv\n"
     ]
    }
   ],
   "source": [
    "# This Python 3 environment comes with many helpful analytics libraries installed\n",
    "# It is defined by the kaggle/python Docker image: https://github.com/kaggle/docker-python\n",
    "# For example, here's several helpful packages to load\n",
    "\n",
    "import numpy as np # linear algebra\n",
    "import pandas as pd # data processing, CSV file I/O (e.g. pd.read_csv)\n",
    "import matplotlib.pyplot as plt\n",
    "import plotly.express as px\n",
    "import seaborn as sns\n",
    "\n",
    "# Input data files are available in the read-only \"../input/\" directory\n",
    "# For example, running this (by clicking run or pressing Shift+Enter) will list all files under the input directory\n",
    "\n",
    "import os\n",
    "for dirname, _, filenames in os.walk('/kaggle/input'):\n",
    "    for filename in filenames:\n",
    "        print(os.path.join(dirname, filename))\n",
    "\n",
    "# You can write up to 20GB to the current directory (/kaggle/working/) that gets preserved as output when you create a version using \"Save & Run All\" \n",
    "# You can also write temporary files to /kaggle/temp/, but they won't be saved outside of the current session"
   ]
  },
  {
   "cell_type": "markdown",
   "id": "32f2a114",
   "metadata": {
    "papermill": {
     "duration": 0.022285,
     "end_time": "2023-04-16T03:58:08.781812",
     "exception": false,
     "start_time": "2023-04-16T03:58:08.759527",
     "status": "completed"
    },
    "tags": []
   },
   "source": [
    "**Data Cleaning and Processing**"
   ]
  },
  {
   "cell_type": "code",
   "execution_count": 2,
   "id": "3b868420",
   "metadata": {
    "execution": {
     "iopub.execute_input": "2023-04-16T03:58:08.831703Z",
     "iopub.status.busy": "2023-04-16T03:58:08.831170Z",
     "iopub.status.idle": "2023-04-16T03:58:08.859159Z",
     "shell.execute_reply": "2023-04-16T03:58:08.858703Z",
     "shell.execute_reply.started": "2022-05-05T20:02:16.403303Z"
    },
    "papermill": {
     "duration": 0.054736,
     "end_time": "2023-04-16T03:58:08.859285",
     "exception": false,
     "start_time": "2023-04-16T03:58:08.804549",
     "status": "completed"
    },
    "tags": []
   },
   "outputs": [
    {
     "data": {
      "text/html": [
       "<div>\n",
       "<style scoped>\n",
       "    .dataframe tbody tr th:only-of-type {\n",
       "        vertical-align: middle;\n",
       "    }\n",
       "\n",
       "    .dataframe tbody tr th {\n",
       "        vertical-align: top;\n",
       "    }\n",
       "\n",
       "    .dataframe thead th {\n",
       "        text-align: right;\n",
       "    }\n",
       "</style>\n",
       "<table border=\"1\" class=\"dataframe\">\n",
       "  <thead>\n",
       "    <tr style=\"text-align: right;\">\n",
       "      <th></th>\n",
       "      <th>Country_code</th>\n",
       "      <th>Country</th>\n",
       "      <th>Total Library Size</th>\n",
       "      <th>No. of TV Shows</th>\n",
       "      <th>No. of Movies</th>\n",
       "      <th>Cost Per Month - Basic ($)</th>\n",
       "      <th>Cost Per Month - Standard ($)</th>\n",
       "      <th>Cost Per Month - Premium ($)</th>\n",
       "    </tr>\n",
       "  </thead>\n",
       "  <tbody>\n",
       "    <tr>\n",
       "      <th>0</th>\n",
       "      <td>ar</td>\n",
       "      <td>Argentina</td>\n",
       "      <td>4760</td>\n",
       "      <td>3154</td>\n",
       "      <td>1606</td>\n",
       "      <td>3.74</td>\n",
       "      <td>6.30</td>\n",
       "      <td>9.26</td>\n",
       "    </tr>\n",
       "    <tr>\n",
       "      <th>1</th>\n",
       "      <td>au</td>\n",
       "      <td>Australia</td>\n",
       "      <td>6114</td>\n",
       "      <td>4050</td>\n",
       "      <td>2064</td>\n",
       "      <td>7.84</td>\n",
       "      <td>12.12</td>\n",
       "      <td>16.39</td>\n",
       "    </tr>\n",
       "    <tr>\n",
       "      <th>2</th>\n",
       "      <td>at</td>\n",
       "      <td>Austria</td>\n",
       "      <td>5640</td>\n",
       "      <td>3779</td>\n",
       "      <td>1861</td>\n",
       "      <td>9.03</td>\n",
       "      <td>14.67</td>\n",
       "      <td>20.32</td>\n",
       "    </tr>\n",
       "    <tr>\n",
       "      <th>3</th>\n",
       "      <td>be</td>\n",
       "      <td>Belgium</td>\n",
       "      <td>4990</td>\n",
       "      <td>3374</td>\n",
       "      <td>1616</td>\n",
       "      <td>10.16</td>\n",
       "      <td>15.24</td>\n",
       "      <td>20.32</td>\n",
       "    </tr>\n",
       "    <tr>\n",
       "      <th>4</th>\n",
       "      <td>bo</td>\n",
       "      <td>Bolivia</td>\n",
       "      <td>4991</td>\n",
       "      <td>3155</td>\n",
       "      <td>1836</td>\n",
       "      <td>7.99</td>\n",
       "      <td>10.99</td>\n",
       "      <td>13.99</td>\n",
       "    </tr>\n",
       "    <tr>\n",
       "      <th>5</th>\n",
       "      <td>br</td>\n",
       "      <td>Brazil</td>\n",
       "      <td>4972</td>\n",
       "      <td>3162</td>\n",
       "      <td>1810</td>\n",
       "      <td>4.61</td>\n",
       "      <td>7.11</td>\n",
       "      <td>9.96</td>\n",
       "    </tr>\n",
       "    <tr>\n",
       "      <th>6</th>\n",
       "      <td>bg</td>\n",
       "      <td>Bulgaria</td>\n",
       "      <td>6797</td>\n",
       "      <td>4819</td>\n",
       "      <td>1978</td>\n",
       "      <td>9.03</td>\n",
       "      <td>11.29</td>\n",
       "      <td>13.54</td>\n",
       "    </tr>\n",
       "    <tr>\n",
       "      <th>7</th>\n",
       "      <td>ca</td>\n",
       "      <td>Canada</td>\n",
       "      <td>6239</td>\n",
       "      <td>4311</td>\n",
       "      <td>1928</td>\n",
       "      <td>7.91</td>\n",
       "      <td>11.87</td>\n",
       "      <td>15.03</td>\n",
       "    </tr>\n",
       "    <tr>\n",
       "      <th>8</th>\n",
       "      <td>cl</td>\n",
       "      <td>Chile</td>\n",
       "      <td>4994</td>\n",
       "      <td>3156</td>\n",
       "      <td>1838</td>\n",
       "      <td>7.07</td>\n",
       "      <td>9.91</td>\n",
       "      <td>12.74</td>\n",
       "    </tr>\n",
       "    <tr>\n",
       "      <th>9</th>\n",
       "      <td>co</td>\n",
       "      <td>Colombia</td>\n",
       "      <td>4991</td>\n",
       "      <td>3156</td>\n",
       "      <td>1835</td>\n",
       "      <td>4.31</td>\n",
       "      <td>6.86</td>\n",
       "      <td>9.93</td>\n",
       "    </tr>\n",
       "  </tbody>\n",
       "</table>\n",
       "</div>"
      ],
      "text/plain": [
       "  Country_code    Country  Total Library Size  No. of TV Shows  No. of Movies  \\\n",
       "0           ar  Argentina                4760             3154           1606   \n",
       "1           au  Australia                6114             4050           2064   \n",
       "2           at    Austria                5640             3779           1861   \n",
       "3           be    Belgium                4990             3374           1616   \n",
       "4           bo    Bolivia                4991             3155           1836   \n",
       "5           br     Brazil                4972             3162           1810   \n",
       "6           bg   Bulgaria                6797             4819           1978   \n",
       "7           ca     Canada                6239             4311           1928   \n",
       "8           cl      Chile                4994             3156           1838   \n",
       "9           co   Colombia                4991             3156           1835   \n",
       "\n",
       "   Cost Per Month - Basic ($)  Cost Per Month - Standard ($)  \\\n",
       "0                        3.74                           6.30   \n",
       "1                        7.84                          12.12   \n",
       "2                        9.03                          14.67   \n",
       "3                       10.16                          15.24   \n",
       "4                        7.99                          10.99   \n",
       "5                        4.61                           7.11   \n",
       "6                        9.03                          11.29   \n",
       "7                        7.91                          11.87   \n",
       "8                        7.07                           9.91   \n",
       "9                        4.31                           6.86   \n",
       "\n",
       "   Cost Per Month - Premium ($)  \n",
       "0                          9.26  \n",
       "1                         16.39  \n",
       "2                         20.32  \n",
       "3                         20.32  \n",
       "4                         13.99  \n",
       "5                          9.96  \n",
       "6                         13.54  \n",
       "7                         15.03  \n",
       "8                         12.74  \n",
       "9                          9.93  "
      ]
     },
     "execution_count": 2,
     "metadata": {},
     "output_type": "execute_result"
    }
   ],
   "source": [
    "# We first insert the dataset from Kaggle\n",
    "netflix_df = pd.read_csv('../input/netflix-subscription-price-in-different-countries/Netflix subscription fee Dec-2021.csv')\n",
    "netflix_df.head(10)"
   ]
  },
  {
   "cell_type": "code",
   "execution_count": 3,
   "id": "68b80277",
   "metadata": {
    "execution": {
     "iopub.execute_input": "2023-04-16T03:58:08.910521Z",
     "iopub.status.busy": "2023-04-16T03:58:08.909826Z",
     "iopub.status.idle": "2023-04-16T03:58:08.912953Z",
     "shell.execute_reply": "2023-04-16T03:58:08.912508Z",
     "shell.execute_reply.started": "2022-05-05T20:02:16.441497Z"
    },
    "papermill": {
     "duration": 0.030479,
     "end_time": "2023-04-16T03:58:08.913066",
     "exception": false,
     "start_time": "2023-04-16T03:58:08.882587",
     "status": "completed"
    },
    "tags": []
   },
   "outputs": [
    {
     "data": {
      "text/plain": [
       "Index(['Country_code', 'Country', 'Total Library Size', 'No. of TV Shows',\n",
       "       'No. of Movies', 'Cost Per Month - Basic ($)',\n",
       "       'Cost Per Month - Standard ($)', 'Cost Per Month - Premium ($)'],\n",
       "      dtype='object')"
      ]
     },
     "execution_count": 3,
     "metadata": {},
     "output_type": "execute_result"
    }
   ],
   "source": [
    "netflix_df.columns"
   ]
  },
  {
   "cell_type": "code",
   "execution_count": 4,
   "id": "3977b6c1",
   "metadata": {
    "execution": {
     "iopub.execute_input": "2023-04-16T03:58:08.964630Z",
     "iopub.status.busy": "2023-04-16T03:58:08.963940Z",
     "iopub.status.idle": "2023-04-16T03:58:08.966214Z",
     "shell.execute_reply": "2023-04-16T03:58:08.966600Z",
     "shell.execute_reply.started": "2022-05-05T20:02:16.451877Z"
    },
    "papermill": {
     "duration": 0.030588,
     "end_time": "2023-04-16T03:58:08.966739",
     "exception": false,
     "start_time": "2023-04-16T03:58:08.936151",
     "status": "completed"
    },
    "tags": []
   },
   "outputs": [
    {
     "data": {
      "text/plain": [
       "(65, 8)"
      ]
     },
     "execution_count": 4,
     "metadata": {},
     "output_type": "execute_result"
    }
   ],
   "source": [
    "netflix_df.shape"
   ]
  },
  {
   "cell_type": "code",
   "execution_count": 5,
   "id": "9c004ecc",
   "metadata": {
    "execution": {
     "iopub.execute_input": "2023-04-16T03:58:09.016827Z",
     "iopub.status.busy": "2023-04-16T03:58:09.016271Z",
     "iopub.status.idle": "2023-04-16T03:58:09.046110Z",
     "shell.execute_reply": "2023-04-16T03:58:09.046738Z",
     "shell.execute_reply.started": "2022-05-05T20:02:16.464768Z"
    },
    "papermill": {
     "duration": 0.055648,
     "end_time": "2023-04-16T03:58:09.046938",
     "exception": false,
     "start_time": "2023-04-16T03:58:08.991290",
     "status": "completed"
    },
    "tags": []
   },
   "outputs": [
    {
     "data": {
      "text/html": [
       "<div>\n",
       "<style scoped>\n",
       "    .dataframe tbody tr th:only-of-type {\n",
       "        vertical-align: middle;\n",
       "    }\n",
       "\n",
       "    .dataframe tbody tr th {\n",
       "        vertical-align: top;\n",
       "    }\n",
       "\n",
       "    .dataframe thead th {\n",
       "        text-align: right;\n",
       "    }\n",
       "</style>\n",
       "<table border=\"1\" class=\"dataframe\">\n",
       "  <thead>\n",
       "    <tr style=\"text-align: right;\">\n",
       "      <th></th>\n",
       "      <th>Total Library Size</th>\n",
       "      <th>No. of TV Shows</th>\n",
       "      <th>No. of Movies</th>\n",
       "      <th>Cost Per Month - Basic ($)</th>\n",
       "      <th>Cost Per Month - Standard ($)</th>\n",
       "      <th>Cost Per Month - Premium ($)</th>\n",
       "    </tr>\n",
       "  </thead>\n",
       "  <tbody>\n",
       "    <tr>\n",
       "      <th>count</th>\n",
       "      <td>65.000000</td>\n",
       "      <td>65.000000</td>\n",
       "      <td>65.000000</td>\n",
       "      <td>65.000000</td>\n",
       "      <td>65.000000</td>\n",
       "      <td>65.000000</td>\n",
       "    </tr>\n",
       "    <tr>\n",
       "      <th>mean</th>\n",
       "      <td>5314.415385</td>\n",
       "      <td>3518.953846</td>\n",
       "      <td>1795.461538</td>\n",
       "      <td>8.368462</td>\n",
       "      <td>11.990000</td>\n",
       "      <td>15.612923</td>\n",
       "    </tr>\n",
       "    <tr>\n",
       "      <th>std</th>\n",
       "      <td>980.322633</td>\n",
       "      <td>723.010556</td>\n",
       "      <td>327.279748</td>\n",
       "      <td>1.937819</td>\n",
       "      <td>2.863979</td>\n",
       "      <td>4.040672</td>\n",
       "    </tr>\n",
       "    <tr>\n",
       "      <th>min</th>\n",
       "      <td>2274.000000</td>\n",
       "      <td>1675.000000</td>\n",
       "      <td>373.000000</td>\n",
       "      <td>1.970000</td>\n",
       "      <td>3.000000</td>\n",
       "      <td>4.020000</td>\n",
       "    </tr>\n",
       "    <tr>\n",
       "      <th>25%</th>\n",
       "      <td>4948.000000</td>\n",
       "      <td>3154.000000</td>\n",
       "      <td>1628.000000</td>\n",
       "      <td>7.990000</td>\n",
       "      <td>10.710000</td>\n",
       "      <td>13.540000</td>\n",
       "    </tr>\n",
       "    <tr>\n",
       "      <th>50%</th>\n",
       "      <td>5195.000000</td>\n",
       "      <td>3512.000000</td>\n",
       "      <td>1841.000000</td>\n",
       "      <td>8.990000</td>\n",
       "      <td>11.490000</td>\n",
       "      <td>14.450000</td>\n",
       "    </tr>\n",
       "    <tr>\n",
       "      <th>75%</th>\n",
       "      <td>5952.000000</td>\n",
       "      <td>3832.000000</td>\n",
       "      <td>1980.000000</td>\n",
       "      <td>9.030000</td>\n",
       "      <td>13.540000</td>\n",
       "      <td>18.060000</td>\n",
       "    </tr>\n",
       "    <tr>\n",
       "      <th>max</th>\n",
       "      <td>7325.000000</td>\n",
       "      <td>5234.000000</td>\n",
       "      <td>2387.000000</td>\n",
       "      <td>12.880000</td>\n",
       "      <td>20.460000</td>\n",
       "      <td>26.960000</td>\n",
       "    </tr>\n",
       "  </tbody>\n",
       "</table>\n",
       "</div>"
      ],
      "text/plain": [
       "       Total Library Size  No. of TV Shows  No. of Movies  \\\n",
       "count           65.000000        65.000000      65.000000   \n",
       "mean          5314.415385      3518.953846    1795.461538   \n",
       "std            980.322633       723.010556     327.279748   \n",
       "min           2274.000000      1675.000000     373.000000   \n",
       "25%           4948.000000      3154.000000    1628.000000   \n",
       "50%           5195.000000      3512.000000    1841.000000   \n",
       "75%           5952.000000      3832.000000    1980.000000   \n",
       "max           7325.000000      5234.000000    2387.000000   \n",
       "\n",
       "       Cost Per Month - Basic ($)  Cost Per Month - Standard ($)  \\\n",
       "count                   65.000000                      65.000000   \n",
       "mean                     8.368462                      11.990000   \n",
       "std                      1.937819                       2.863979   \n",
       "min                      1.970000                       3.000000   \n",
       "25%                      7.990000                      10.710000   \n",
       "50%                      8.990000                      11.490000   \n",
       "75%                      9.030000                      13.540000   \n",
       "max                     12.880000                      20.460000   \n",
       "\n",
       "       Cost Per Month - Premium ($)  \n",
       "count                     65.000000  \n",
       "mean                      15.612923  \n",
       "std                        4.040672  \n",
       "min                        4.020000  \n",
       "25%                       13.540000  \n",
       "50%                       14.450000  \n",
       "75%                       18.060000  \n",
       "max                       26.960000  "
      ]
     },
     "execution_count": 5,
     "metadata": {},
     "output_type": "execute_result"
    }
   ],
   "source": [
    "netflix_df.describe()"
   ]
  },
  {
   "cell_type": "code",
   "execution_count": 6,
   "id": "6e1e0155",
   "metadata": {
    "execution": {
     "iopub.execute_input": "2023-04-16T03:58:09.098514Z",
     "iopub.status.busy": "2023-04-16T03:58:09.097967Z",
     "iopub.status.idle": "2023-04-16T03:58:09.103237Z",
     "shell.execute_reply": "2023-04-16T03:58:09.103730Z",
     "shell.execute_reply.started": "2022-05-05T20:02:16.511727Z"
    },
    "papermill": {
     "duration": 0.032533,
     "end_time": "2023-04-16T03:58:09.103864",
     "exception": false,
     "start_time": "2023-04-16T03:58:09.071331",
     "status": "completed"
    },
    "tags": []
   },
   "outputs": [
    {
     "data": {
      "text/plain": [
       "Country_code                     0\n",
       "Country                          0\n",
       "Total Library Size               0\n",
       "No. of TV Shows                  0\n",
       "No. of Movies                    0\n",
       "Cost Per Month - Basic ($)       0\n",
       "Cost Per Month - Standard ($)    0\n",
       "Cost Per Month - Premium ($)     0\n",
       "dtype: int64"
      ]
     },
     "execution_count": 6,
     "metadata": {},
     "output_type": "execute_result"
    }
   ],
   "source": [
    "# Now we are going to check if there is any null value in the dataset\n",
    "netflix_df.isnull().sum()"
   ]
  },
  {
   "cell_type": "markdown",
   "id": "1a55d35d",
   "metadata": {
    "papermill": {
     "duration": 0.024588,
     "end_time": "2023-04-16T03:58:09.154121",
     "exception": false,
     "start_time": "2023-04-16T03:58:09.129533",
     "status": "completed"
    },
    "tags": []
   },
   "source": [
    "Great! There is not null value in our dataset. So we don't need to do anything to the data to fill out the NaN."
   ]
  },
  {
   "cell_type": "code",
   "execution_count": 7,
   "id": "64b6d693",
   "metadata": {
    "execution": {
     "iopub.execute_input": "2023-04-16T03:58:09.207642Z",
     "iopub.status.busy": "2023-04-16T03:58:09.207071Z",
     "iopub.status.idle": "2023-04-16T03:58:09.211076Z",
     "shell.execute_reply": "2023-04-16T03:58:09.210682Z",
     "shell.execute_reply.started": "2022-05-05T20:02:16.521137Z"
    },
    "papermill": {
     "duration": 0.033086,
     "end_time": "2023-04-16T03:58:09.211183",
     "exception": false,
     "start_time": "2023-04-16T03:58:09.178097",
     "status": "completed"
    },
    "tags": []
   },
   "outputs": [
    {
     "data": {
      "text/plain": [
       "Argentina        1\n",
       "Liechtenstein    1\n",
       "Malaysia         1\n",
       "Mexico           1\n",
       "Moldova          1\n",
       "                ..\n",
       "Indonesia        1\n",
       "Ireland          1\n",
       "Israel           1\n",
       "Italy            1\n",
       "Venezuela        1\n",
       "Name: Country, Length: 65, dtype: int64"
      ]
     },
     "execution_count": 7,
     "metadata": {},
     "output_type": "execute_result"
    }
   ],
   "source": [
    "netflix_df.Country.value_counts()"
   ]
  },
  {
   "cell_type": "markdown",
   "id": "2d532e5f",
   "metadata": {
    "papermill": {
     "duration": 0.02431,
     "end_time": "2023-04-16T03:58:09.260150",
     "exception": false,
     "start_time": "2023-04-16T03:58:09.235840",
     "status": "completed"
    },
    "tags": []
   },
   "source": [
    "**Visiualization**"
   ]
  },
  {
   "cell_type": "code",
   "execution_count": 8,
   "id": "b9e53fd9",
   "metadata": {
    "execution": {
     "iopub.execute_input": "2023-04-16T03:58:09.313746Z",
     "iopub.status.busy": "2023-04-16T03:58:09.313213Z",
     "iopub.status.idle": "2023-04-16T03:58:10.212136Z",
     "shell.execute_reply": "2023-04-16T03:58:10.212591Z",
     "shell.execute_reply.started": "2022-05-05T20:02:16.540731Z"
    },
    "papermill": {
     "duration": 0.9279,
     "end_time": "2023-04-16T03:58:10.212760",
     "exception": false,
     "start_time": "2023-04-16T03:58:09.284860",
     "status": "completed"
    },
    "tags": []
   },
   "outputs": [
    {
     "data": {
      "text/html": [
       "        <script type=\"text/javascript\">\n",
       "        window.PlotlyConfig = {MathJaxConfig: 'local'};\n",
       "        if (window.MathJax) {MathJax.Hub.Config({SVG: {font: \"STIX-Web\"}});}\n",
       "        if (typeof require !== 'undefined') {\n",
       "        require.undef(\"plotly\");\n",
       "        requirejs.config({\n",
       "            paths: {\n",
       "                'plotly': ['https://cdn.plot.ly/plotly-2.9.0.min']\n",
       "            }\n",
       "        });\n",
       "        require(['plotly'], function(Plotly) {\n",
       "            window._Plotly = Plotly;\n",
       "        });\n",
       "        }\n",
       "        </script>\n",
       "        "
      ]
     },
     "metadata": {},
     "output_type": "display_data"
    },
    {
     "data": {
      "text/html": [
       "<div>                            <div id=\"f27105d6-91e9-4527-8966-94349833c406\" class=\"plotly-graph-div\" style=\"height:525px; width:100%;\"></div>            <script type=\"text/javascript\">                require([\"plotly\"], function(Plotly) {                    window.PLOTLYENV=window.PLOTLYENV || {};                                    if (document.getElementById(\"f27105d6-91e9-4527-8966-94349833c406\")) {                    Plotly.newPlot(                        \"f27105d6-91e9-4527-8966-94349833c406\",                        [{\"alignmentgroup\":\"True\",\"hovertemplate\":\"Country=%{x}<br>Cost Per Month - Basic ($)=%{marker.color}<extra></extra>\",\"legendgroup\":\"\",\"marker\":{\"color\":[3.74,7.84,9.03,10.16,7.99,4.61,9.03,7.91,7.07,4.31,8.99,9.03,8.83,12.0,7.99,9.03,9.03,10.16,9.03,9.03,9.03,7.99,7.99,8.08,7.64,9.03,2.64,8.36,9.03,10.56,9.03,8.73,9.03,12.88,9.03,8.29,6.62,9.03,9.03,9.03,8.8,9.94,8.29,6.11,7.35,7.13,9.03,9.03,8.13,9.03,9.51,9.03,6.26,8.07,9.03,10.9,12.88,9.74,8.34,1.97,5.64,7.91,8.99,8.99,7.99],\"coloraxis\":\"coloraxis\",\"pattern\":{\"shape\":\"\"}},\"name\":\"\",\"offsetgroup\":\"\",\"orientation\":\"v\",\"showlegend\":false,\"textposition\":\"auto\",\"x\":[\"Argentina\",\"Australia\",\"Austria\",\"Belgium\",\"Bolivia\",\"Brazil\",\"Bulgaria\",\"Canada\",\"Chile\",\"Colombia\",\"Costa Rica\",\"Croatia\",\"Czechia\",\"Denmark\",\"Ecuador\",\"Estonia\",\"Finland\",\"France\",\"Germany\",\"Gibraltar\",\"Greece\",\"Guatemala\",\"Honduras\",\"Hong Kong\",\"Hungary\",\"Iceland\",\"India\",\"Indonesia\",\"Ireland\",\"Israel\",\"Italy\",\"Japan\",\"Latvia\",\"Liechtenstein\",\"Lithuania\",\"Malaysia\",\"Mexico\",\"Moldova\",\"Monaco\",\"Netherlands\",\"New Zealand\",\"Norway\",\"Paraguay\",\"Peru\",\"Philippines\",\"Poland\",\"Portugal\",\"Romania\",\"Russia\",\"San Marino\",\"Singapore\",\"Slovakia\",\"South Africa\",\"South Korea\",\"Spain\",\"Sweden\",\"Switzerland\",\"Taiwan\",\"Thailand\",\"Turkey\",\"Ukraine\",\"United Kingdom\",\"United States\",\"Uruguay\",\"Venezuela\"],\"xaxis\":\"x\",\"y\":[3.74,7.84,9.03,10.16,7.99,4.61,9.03,7.91,7.07,4.31,8.99,9.03,8.83,12.0,7.99,9.03,9.03,10.16,9.03,9.03,9.03,7.99,7.99,8.08,7.64,9.03,2.64,8.36,9.03,10.56,9.03,8.73,9.03,12.88,9.03,8.29,6.62,9.03,9.03,9.03,8.8,9.94,8.29,6.11,7.35,7.13,9.03,9.03,8.13,9.03,9.51,9.03,6.26,8.07,9.03,10.9,12.88,9.74,8.34,1.97,5.64,7.91,8.99,8.99,7.99],\"yaxis\":\"y\",\"type\":\"bar\"}],                        {\"template\":{\"data\":{\"bar\":[{\"error_x\":{\"color\":\"#2a3f5f\"},\"error_y\":{\"color\":\"#2a3f5f\"},\"marker\":{\"line\":{\"color\":\"#E5ECF6\",\"width\":0.5},\"pattern\":{\"fillmode\":\"overlay\",\"size\":10,\"solidity\":0.2}},\"type\":\"bar\"}],\"barpolar\":[{\"marker\":{\"line\":{\"color\":\"#E5ECF6\",\"width\":0.5},\"pattern\":{\"fillmode\":\"overlay\",\"size\":10,\"solidity\":0.2}},\"type\":\"barpolar\"}],\"carpet\":[{\"aaxis\":{\"endlinecolor\":\"#2a3f5f\",\"gridcolor\":\"white\",\"linecolor\":\"white\",\"minorgridcolor\":\"white\",\"startlinecolor\":\"#2a3f5f\"},\"baxis\":{\"endlinecolor\":\"#2a3f5f\",\"gridcolor\":\"white\",\"linecolor\":\"white\",\"minorgridcolor\":\"white\",\"startlinecolor\":\"#2a3f5f\"},\"type\":\"carpet\"}],\"choropleth\":[{\"colorbar\":{\"outlinewidth\":0,\"ticks\":\"\"},\"type\":\"choropleth\"}],\"contour\":[{\"colorbar\":{\"outlinewidth\":0,\"ticks\":\"\"},\"colorscale\":[[0.0,\"#0d0887\"],[0.1111111111111111,\"#46039f\"],[0.2222222222222222,\"#7201a8\"],[0.3333333333333333,\"#9c179e\"],[0.4444444444444444,\"#bd3786\"],[0.5555555555555556,\"#d8576b\"],[0.6666666666666666,\"#ed7953\"],[0.7777777777777778,\"#fb9f3a\"],[0.8888888888888888,\"#fdca26\"],[1.0,\"#f0f921\"]],\"type\":\"contour\"}],\"contourcarpet\":[{\"colorbar\":{\"outlinewidth\":0,\"ticks\":\"\"},\"type\":\"contourcarpet\"}],\"heatmap\":[{\"colorbar\":{\"outlinewidth\":0,\"ticks\":\"\"},\"colorscale\":[[0.0,\"#0d0887\"],[0.1111111111111111,\"#46039f\"],[0.2222222222222222,\"#7201a8\"],[0.3333333333333333,\"#9c179e\"],[0.4444444444444444,\"#bd3786\"],[0.5555555555555556,\"#d8576b\"],[0.6666666666666666,\"#ed7953\"],[0.7777777777777778,\"#fb9f3a\"],[0.8888888888888888,\"#fdca26\"],[1.0,\"#f0f921\"]],\"type\":\"heatmap\"}],\"heatmapgl\":[{\"colorbar\":{\"outlinewidth\":0,\"ticks\":\"\"},\"colorscale\":[[0.0,\"#0d0887\"],[0.1111111111111111,\"#46039f\"],[0.2222222222222222,\"#7201a8\"],[0.3333333333333333,\"#9c179e\"],[0.4444444444444444,\"#bd3786\"],[0.5555555555555556,\"#d8576b\"],[0.6666666666666666,\"#ed7953\"],[0.7777777777777778,\"#fb9f3a\"],[0.8888888888888888,\"#fdca26\"],[1.0,\"#f0f921\"]],\"type\":\"heatmapgl\"}],\"histogram\":[{\"marker\":{\"pattern\":{\"fillmode\":\"overlay\",\"size\":10,\"solidity\":0.2}},\"type\":\"histogram\"}],\"histogram2d\":[{\"colorbar\":{\"outlinewidth\":0,\"ticks\":\"\"},\"colorscale\":[[0.0,\"#0d0887\"],[0.1111111111111111,\"#46039f\"],[0.2222222222222222,\"#7201a8\"],[0.3333333333333333,\"#9c179e\"],[0.4444444444444444,\"#bd3786\"],[0.5555555555555556,\"#d8576b\"],[0.6666666666666666,\"#ed7953\"],[0.7777777777777778,\"#fb9f3a\"],[0.8888888888888888,\"#fdca26\"],[1.0,\"#f0f921\"]],\"type\":\"histogram2d\"}],\"histogram2dcontour\":[{\"colorbar\":{\"outlinewidth\":0,\"ticks\":\"\"},\"colorscale\":[[0.0,\"#0d0887\"],[0.1111111111111111,\"#46039f\"],[0.2222222222222222,\"#7201a8\"],[0.3333333333333333,\"#9c179e\"],[0.4444444444444444,\"#bd3786\"],[0.5555555555555556,\"#d8576b\"],[0.6666666666666666,\"#ed7953\"],[0.7777777777777778,\"#fb9f3a\"],[0.8888888888888888,\"#fdca26\"],[1.0,\"#f0f921\"]],\"type\":\"histogram2dcontour\"}],\"mesh3d\":[{\"colorbar\":{\"outlinewidth\":0,\"ticks\":\"\"},\"type\":\"mesh3d\"}],\"parcoords\":[{\"line\":{\"colorbar\":{\"outlinewidth\":0,\"ticks\":\"\"}},\"type\":\"parcoords\"}],\"pie\":[{\"automargin\":true,\"type\":\"pie\"}],\"scatter\":[{\"marker\":{\"colorbar\":{\"outlinewidth\":0,\"ticks\":\"\"}},\"type\":\"scatter\"}],\"scatter3d\":[{\"line\":{\"colorbar\":{\"outlinewidth\":0,\"ticks\":\"\"}},\"marker\":{\"colorbar\":{\"outlinewidth\":0,\"ticks\":\"\"}},\"type\":\"scatter3d\"}],\"scattercarpet\":[{\"marker\":{\"colorbar\":{\"outlinewidth\":0,\"ticks\":\"\"}},\"type\":\"scattercarpet\"}],\"scattergeo\":[{\"marker\":{\"colorbar\":{\"outlinewidth\":0,\"ticks\":\"\"}},\"type\":\"scattergeo\"}],\"scattergl\":[{\"marker\":{\"colorbar\":{\"outlinewidth\":0,\"ticks\":\"\"}},\"type\":\"scattergl\"}],\"scattermapbox\":[{\"marker\":{\"colorbar\":{\"outlinewidth\":0,\"ticks\":\"\"}},\"type\":\"scattermapbox\"}],\"scatterpolar\":[{\"marker\":{\"colorbar\":{\"outlinewidth\":0,\"ticks\":\"\"}},\"type\":\"scatterpolar\"}],\"scatterpolargl\":[{\"marker\":{\"colorbar\":{\"outlinewidth\":0,\"ticks\":\"\"}},\"type\":\"scatterpolargl\"}],\"scatterternary\":[{\"marker\":{\"colorbar\":{\"outlinewidth\":0,\"ticks\":\"\"}},\"type\":\"scatterternary\"}],\"surface\":[{\"colorbar\":{\"outlinewidth\":0,\"ticks\":\"\"},\"colorscale\":[[0.0,\"#0d0887\"],[0.1111111111111111,\"#46039f\"],[0.2222222222222222,\"#7201a8\"],[0.3333333333333333,\"#9c179e\"],[0.4444444444444444,\"#bd3786\"],[0.5555555555555556,\"#d8576b\"],[0.6666666666666666,\"#ed7953\"],[0.7777777777777778,\"#fb9f3a\"],[0.8888888888888888,\"#fdca26\"],[1.0,\"#f0f921\"]],\"type\":\"surface\"}],\"table\":[{\"cells\":{\"fill\":{\"color\":\"#EBF0F8\"},\"line\":{\"color\":\"white\"}},\"header\":{\"fill\":{\"color\":\"#C8D4E3\"},\"line\":{\"color\":\"white\"}},\"type\":\"table\"}]},\"layout\":{\"annotationdefaults\":{\"arrowcolor\":\"#2a3f5f\",\"arrowhead\":0,\"arrowwidth\":1},\"autotypenumbers\":\"strict\",\"coloraxis\":{\"colorbar\":{\"outlinewidth\":0,\"ticks\":\"\"}},\"colorscale\":{\"diverging\":[[0,\"#8e0152\"],[0.1,\"#c51b7d\"],[0.2,\"#de77ae\"],[0.3,\"#f1b6da\"],[0.4,\"#fde0ef\"],[0.5,\"#f7f7f7\"],[0.6,\"#e6f5d0\"],[0.7,\"#b8e186\"],[0.8,\"#7fbc41\"],[0.9,\"#4d9221\"],[1,\"#276419\"]],\"sequential\":[[0.0,\"#0d0887\"],[0.1111111111111111,\"#46039f\"],[0.2222222222222222,\"#7201a8\"],[0.3333333333333333,\"#9c179e\"],[0.4444444444444444,\"#bd3786\"],[0.5555555555555556,\"#d8576b\"],[0.6666666666666666,\"#ed7953\"],[0.7777777777777778,\"#fb9f3a\"],[0.8888888888888888,\"#fdca26\"],[1.0,\"#f0f921\"]],\"sequentialminus\":[[0.0,\"#0d0887\"],[0.1111111111111111,\"#46039f\"],[0.2222222222222222,\"#7201a8\"],[0.3333333333333333,\"#9c179e\"],[0.4444444444444444,\"#bd3786\"],[0.5555555555555556,\"#d8576b\"],[0.6666666666666666,\"#ed7953\"],[0.7777777777777778,\"#fb9f3a\"],[0.8888888888888888,\"#fdca26\"],[1.0,\"#f0f921\"]]},\"colorway\":[\"#636efa\",\"#EF553B\",\"#00cc96\",\"#ab63fa\",\"#FFA15A\",\"#19d3f3\",\"#FF6692\",\"#B6E880\",\"#FF97FF\",\"#FECB52\"],\"font\":{\"color\":\"#2a3f5f\"},\"geo\":{\"bgcolor\":\"white\",\"lakecolor\":\"white\",\"landcolor\":\"#E5ECF6\",\"showlakes\":true,\"showland\":true,\"subunitcolor\":\"white\"},\"hoverlabel\":{\"align\":\"left\"},\"hovermode\":\"closest\",\"mapbox\":{\"style\":\"light\"},\"paper_bgcolor\":\"white\",\"plot_bgcolor\":\"#E5ECF6\",\"polar\":{\"angularaxis\":{\"gridcolor\":\"white\",\"linecolor\":\"white\",\"ticks\":\"\"},\"bgcolor\":\"#E5ECF6\",\"radialaxis\":{\"gridcolor\":\"white\",\"linecolor\":\"white\",\"ticks\":\"\"}},\"scene\":{\"xaxis\":{\"backgroundcolor\":\"#E5ECF6\",\"gridcolor\":\"white\",\"gridwidth\":2,\"linecolor\":\"white\",\"showbackground\":true,\"ticks\":\"\",\"zerolinecolor\":\"white\"},\"yaxis\":{\"backgroundcolor\":\"#E5ECF6\",\"gridcolor\":\"white\",\"gridwidth\":2,\"linecolor\":\"white\",\"showbackground\":true,\"ticks\":\"\",\"zerolinecolor\":\"white\"},\"zaxis\":{\"backgroundcolor\":\"#E5ECF6\",\"gridcolor\":\"white\",\"gridwidth\":2,\"linecolor\":\"white\",\"showbackground\":true,\"ticks\":\"\",\"zerolinecolor\":\"white\"}},\"shapedefaults\":{\"line\":{\"color\":\"#2a3f5f\"}},\"ternary\":{\"aaxis\":{\"gridcolor\":\"white\",\"linecolor\":\"white\",\"ticks\":\"\"},\"baxis\":{\"gridcolor\":\"white\",\"linecolor\":\"white\",\"ticks\":\"\"},\"bgcolor\":\"#E5ECF6\",\"caxis\":{\"gridcolor\":\"white\",\"linecolor\":\"white\",\"ticks\":\"\"}},\"title\":{\"x\":0.05},\"xaxis\":{\"automargin\":true,\"gridcolor\":\"white\",\"linecolor\":\"white\",\"ticks\":\"\",\"title\":{\"standoff\":15},\"zerolinecolor\":\"white\",\"zerolinewidth\":2},\"yaxis\":{\"automargin\":true,\"gridcolor\":\"white\",\"linecolor\":\"white\",\"ticks\":\"\",\"title\":{\"standoff\":15},\"zerolinecolor\":\"white\",\"zerolinewidth\":2}}},\"xaxis\":{\"anchor\":\"y\",\"domain\":[0.0,1.0],\"title\":{\"text\":\"Country\"}},\"yaxis\":{\"anchor\":\"x\",\"domain\":[0.0,1.0],\"title\":{\"text\":\"Cost Per Month - Basic ($)\"}},\"coloraxis\":{\"colorbar\":{\"title\":{\"text\":\"Cost Per Month - Basic ($)\"}},\"colorscale\":[[0.0,\"#0d0887\"],[0.1111111111111111,\"#46039f\"],[0.2222222222222222,\"#7201a8\"],[0.3333333333333333,\"#9c179e\"],[0.4444444444444444,\"#bd3786\"],[0.5555555555555556,\"#d8576b\"],[0.6666666666666666,\"#ed7953\"],[0.7777777777777778,\"#fb9f3a\"],[0.8888888888888888,\"#fdca26\"],[1.0,\"#f0f921\"]]},\"legend\":{\"tracegroupgap\":0},\"margin\":{\"t\":60},\"barmode\":\"relative\"},                        {\"responsive\": true}                    ).then(function(){\n",
       "                            \n",
       "var gd = document.getElementById('f27105d6-91e9-4527-8966-94349833c406');\n",
       "var x = new MutationObserver(function (mutations, observer) {{\n",
       "        var display = window.getComputedStyle(gd).display;\n",
       "        if (!display || display === 'none') {{\n",
       "            console.log([gd, 'removed!']);\n",
       "            Plotly.purge(gd);\n",
       "            observer.disconnect();\n",
       "        }}\n",
       "}});\n",
       "\n",
       "// Listen for the removal of the full notebook cells\n",
       "var notebookContainer = gd.closest('#notebook-container');\n",
       "if (notebookContainer) {{\n",
       "    x.observe(notebookContainer, {childList: true});\n",
       "}}\n",
       "\n",
       "// Listen for the clearing of the current output cell\n",
       "var outputEl = gd.closest('.output');\n",
       "if (outputEl) {{\n",
       "    x.observe(outputEl, {childList: true});\n",
       "}}\n",
       "\n",
       "                        })                };                });            </script>        </div>"
      ]
     },
     "metadata": {},
     "output_type": "display_data"
    }
   ],
   "source": [
    "fig_b = px.bar(netflix_df, x='Country', y='Cost Per Month - Basic ($)', color = \"Cost Per Month - Basic ($)\")\n",
    "fig_b.show()"
   ]
  },
  {
   "cell_type": "code",
   "execution_count": 9,
   "id": "2da136e7",
   "metadata": {
    "execution": {
     "iopub.execute_input": "2023-04-16T03:58:10.273894Z",
     "iopub.status.busy": "2023-04-16T03:58:10.273090Z",
     "iopub.status.idle": "2023-04-16T03:58:10.320171Z",
     "shell.execute_reply": "2023-04-16T03:58:10.319726Z",
     "shell.execute_reply.started": "2022-05-05T20:02:17.863375Z"
    },
    "papermill": {
     "duration": 0.081314,
     "end_time": "2023-04-16T03:58:10.320298",
     "exception": false,
     "start_time": "2023-04-16T03:58:10.238984",
     "status": "completed"
    },
    "tags": []
   },
   "outputs": [
    {
     "data": {
      "text/html": [
       "<div>                            <div id=\"d5fe092e-3e7f-4b0f-a85e-9ab388d8d9e3\" class=\"plotly-graph-div\" style=\"height:525px; width:100%;\"></div>            <script type=\"text/javascript\">                require([\"plotly\"], function(Plotly) {                    window.PLOTLYENV=window.PLOTLYENV || {};                                    if (document.getElementById(\"d5fe092e-3e7f-4b0f-a85e-9ab388d8d9e3\")) {                    Plotly.newPlot(                        \"d5fe092e-3e7f-4b0f-a85e-9ab388d8d9e3\",                        [{\"alignmentgroup\":\"True\",\"hovertemplate\":\"Country=%{x}<br>Cost Per Month - Standard ($)=%{marker.color}<extra></extra>\",\"legendgroup\":\"\",\"marker\":{\"color\":[6.3,12.12,14.67,15.24,10.99,7.11,11.29,11.87,9.91,6.86,12.99,11.29,11.49,15.04,10.99,11.29,13.54,15.24,14.67,14.67,12.42,10.99,10.99,10.0,10.71,14.67,6.61,10.66,14.67,15.05,14.67,13.13,11.29,20.46,11.29,10.65,10.43,11.29,13.54,13.54,12.53,12.17,11.49,8.56,9.14,10.58,13.54,11.29,10.84,14.67,12.81,11.29,10.05,11.47,14.67,14.2,20.46,11.9,10.43,3.0,8.46,13.2,13.99,12.99,10.99],\"coloraxis\":\"coloraxis\",\"pattern\":{\"shape\":\"\"}},\"name\":\"\",\"offsetgroup\":\"\",\"orientation\":\"v\",\"showlegend\":false,\"textposition\":\"auto\",\"x\":[\"Argentina\",\"Australia\",\"Austria\",\"Belgium\",\"Bolivia\",\"Brazil\",\"Bulgaria\",\"Canada\",\"Chile\",\"Colombia\",\"Costa Rica\",\"Croatia\",\"Czechia\",\"Denmark\",\"Ecuador\",\"Estonia\",\"Finland\",\"France\",\"Germany\",\"Gibraltar\",\"Greece\",\"Guatemala\",\"Honduras\",\"Hong Kong\",\"Hungary\",\"Iceland\",\"India\",\"Indonesia\",\"Ireland\",\"Israel\",\"Italy\",\"Japan\",\"Latvia\",\"Liechtenstein\",\"Lithuania\",\"Malaysia\",\"Mexico\",\"Moldova\",\"Monaco\",\"Netherlands\",\"New Zealand\",\"Norway\",\"Paraguay\",\"Peru\",\"Philippines\",\"Poland\",\"Portugal\",\"Romania\",\"Russia\",\"San Marino\",\"Singapore\",\"Slovakia\",\"South Africa\",\"South Korea\",\"Spain\",\"Sweden\",\"Switzerland\",\"Taiwan\",\"Thailand\",\"Turkey\",\"Ukraine\",\"United Kingdom\",\"United States\",\"Uruguay\",\"Venezuela\"],\"xaxis\":\"x\",\"y\":[6.3,12.12,14.67,15.24,10.99,7.11,11.29,11.87,9.91,6.86,12.99,11.29,11.49,15.04,10.99,11.29,13.54,15.24,14.67,14.67,12.42,10.99,10.99,10.0,10.71,14.67,6.61,10.66,14.67,15.05,14.67,13.13,11.29,20.46,11.29,10.65,10.43,11.29,13.54,13.54,12.53,12.17,11.49,8.56,9.14,10.58,13.54,11.29,10.84,14.67,12.81,11.29,10.05,11.47,14.67,14.2,20.46,11.9,10.43,3.0,8.46,13.2,13.99,12.99,10.99],\"yaxis\":\"y\",\"type\":\"bar\"}],                        {\"template\":{\"data\":{\"bar\":[{\"error_x\":{\"color\":\"#2a3f5f\"},\"error_y\":{\"color\":\"#2a3f5f\"},\"marker\":{\"line\":{\"color\":\"#E5ECF6\",\"width\":0.5},\"pattern\":{\"fillmode\":\"overlay\",\"size\":10,\"solidity\":0.2}},\"type\":\"bar\"}],\"barpolar\":[{\"marker\":{\"line\":{\"color\":\"#E5ECF6\",\"width\":0.5},\"pattern\":{\"fillmode\":\"overlay\",\"size\":10,\"solidity\":0.2}},\"type\":\"barpolar\"}],\"carpet\":[{\"aaxis\":{\"endlinecolor\":\"#2a3f5f\",\"gridcolor\":\"white\",\"linecolor\":\"white\",\"minorgridcolor\":\"white\",\"startlinecolor\":\"#2a3f5f\"},\"baxis\":{\"endlinecolor\":\"#2a3f5f\",\"gridcolor\":\"white\",\"linecolor\":\"white\",\"minorgridcolor\":\"white\",\"startlinecolor\":\"#2a3f5f\"},\"type\":\"carpet\"}],\"choropleth\":[{\"colorbar\":{\"outlinewidth\":0,\"ticks\":\"\"},\"type\":\"choropleth\"}],\"contour\":[{\"colorbar\":{\"outlinewidth\":0,\"ticks\":\"\"},\"colorscale\":[[0.0,\"#0d0887\"],[0.1111111111111111,\"#46039f\"],[0.2222222222222222,\"#7201a8\"],[0.3333333333333333,\"#9c179e\"],[0.4444444444444444,\"#bd3786\"],[0.5555555555555556,\"#d8576b\"],[0.6666666666666666,\"#ed7953\"],[0.7777777777777778,\"#fb9f3a\"],[0.8888888888888888,\"#fdca26\"],[1.0,\"#f0f921\"]],\"type\":\"contour\"}],\"contourcarpet\":[{\"colorbar\":{\"outlinewidth\":0,\"ticks\":\"\"},\"type\":\"contourcarpet\"}],\"heatmap\":[{\"colorbar\":{\"outlinewidth\":0,\"ticks\":\"\"},\"colorscale\":[[0.0,\"#0d0887\"],[0.1111111111111111,\"#46039f\"],[0.2222222222222222,\"#7201a8\"],[0.3333333333333333,\"#9c179e\"],[0.4444444444444444,\"#bd3786\"],[0.5555555555555556,\"#d8576b\"],[0.6666666666666666,\"#ed7953\"],[0.7777777777777778,\"#fb9f3a\"],[0.8888888888888888,\"#fdca26\"],[1.0,\"#f0f921\"]],\"type\":\"heatmap\"}],\"heatmapgl\":[{\"colorbar\":{\"outlinewidth\":0,\"ticks\":\"\"},\"colorscale\":[[0.0,\"#0d0887\"],[0.1111111111111111,\"#46039f\"],[0.2222222222222222,\"#7201a8\"],[0.3333333333333333,\"#9c179e\"],[0.4444444444444444,\"#bd3786\"],[0.5555555555555556,\"#d8576b\"],[0.6666666666666666,\"#ed7953\"],[0.7777777777777778,\"#fb9f3a\"],[0.8888888888888888,\"#fdca26\"],[1.0,\"#f0f921\"]],\"type\":\"heatmapgl\"}],\"histogram\":[{\"marker\":{\"pattern\":{\"fillmode\":\"overlay\",\"size\":10,\"solidity\":0.2}},\"type\":\"histogram\"}],\"histogram2d\":[{\"colorbar\":{\"outlinewidth\":0,\"ticks\":\"\"},\"colorscale\":[[0.0,\"#0d0887\"],[0.1111111111111111,\"#46039f\"],[0.2222222222222222,\"#7201a8\"],[0.3333333333333333,\"#9c179e\"],[0.4444444444444444,\"#bd3786\"],[0.5555555555555556,\"#d8576b\"],[0.6666666666666666,\"#ed7953\"],[0.7777777777777778,\"#fb9f3a\"],[0.8888888888888888,\"#fdca26\"],[1.0,\"#f0f921\"]],\"type\":\"histogram2d\"}],\"histogram2dcontour\":[{\"colorbar\":{\"outlinewidth\":0,\"ticks\":\"\"},\"colorscale\":[[0.0,\"#0d0887\"],[0.1111111111111111,\"#46039f\"],[0.2222222222222222,\"#7201a8\"],[0.3333333333333333,\"#9c179e\"],[0.4444444444444444,\"#bd3786\"],[0.5555555555555556,\"#d8576b\"],[0.6666666666666666,\"#ed7953\"],[0.7777777777777778,\"#fb9f3a\"],[0.8888888888888888,\"#fdca26\"],[1.0,\"#f0f921\"]],\"type\":\"histogram2dcontour\"}],\"mesh3d\":[{\"colorbar\":{\"outlinewidth\":0,\"ticks\":\"\"},\"type\":\"mesh3d\"}],\"parcoords\":[{\"line\":{\"colorbar\":{\"outlinewidth\":0,\"ticks\":\"\"}},\"type\":\"parcoords\"}],\"pie\":[{\"automargin\":true,\"type\":\"pie\"}],\"scatter\":[{\"marker\":{\"colorbar\":{\"outlinewidth\":0,\"ticks\":\"\"}},\"type\":\"scatter\"}],\"scatter3d\":[{\"line\":{\"colorbar\":{\"outlinewidth\":0,\"ticks\":\"\"}},\"marker\":{\"colorbar\":{\"outlinewidth\":0,\"ticks\":\"\"}},\"type\":\"scatter3d\"}],\"scattercarpet\":[{\"marker\":{\"colorbar\":{\"outlinewidth\":0,\"ticks\":\"\"}},\"type\":\"scattercarpet\"}],\"scattergeo\":[{\"marker\":{\"colorbar\":{\"outlinewidth\":0,\"ticks\":\"\"}},\"type\":\"scattergeo\"}],\"scattergl\":[{\"marker\":{\"colorbar\":{\"outlinewidth\":0,\"ticks\":\"\"}},\"type\":\"scattergl\"}],\"scattermapbox\":[{\"marker\":{\"colorbar\":{\"outlinewidth\":0,\"ticks\":\"\"}},\"type\":\"scattermapbox\"}],\"scatterpolar\":[{\"marker\":{\"colorbar\":{\"outlinewidth\":0,\"ticks\":\"\"}},\"type\":\"scatterpolar\"}],\"scatterpolargl\":[{\"marker\":{\"colorbar\":{\"outlinewidth\":0,\"ticks\":\"\"}},\"type\":\"scatterpolargl\"}],\"scatterternary\":[{\"marker\":{\"colorbar\":{\"outlinewidth\":0,\"ticks\":\"\"}},\"type\":\"scatterternary\"}],\"surface\":[{\"colorbar\":{\"outlinewidth\":0,\"ticks\":\"\"},\"colorscale\":[[0.0,\"#0d0887\"],[0.1111111111111111,\"#46039f\"],[0.2222222222222222,\"#7201a8\"],[0.3333333333333333,\"#9c179e\"],[0.4444444444444444,\"#bd3786\"],[0.5555555555555556,\"#d8576b\"],[0.6666666666666666,\"#ed7953\"],[0.7777777777777778,\"#fb9f3a\"],[0.8888888888888888,\"#fdca26\"],[1.0,\"#f0f921\"]],\"type\":\"surface\"}],\"table\":[{\"cells\":{\"fill\":{\"color\":\"#EBF0F8\"},\"line\":{\"color\":\"white\"}},\"header\":{\"fill\":{\"color\":\"#C8D4E3\"},\"line\":{\"color\":\"white\"}},\"type\":\"table\"}]},\"layout\":{\"annotationdefaults\":{\"arrowcolor\":\"#2a3f5f\",\"arrowhead\":0,\"arrowwidth\":1},\"autotypenumbers\":\"strict\",\"coloraxis\":{\"colorbar\":{\"outlinewidth\":0,\"ticks\":\"\"}},\"colorscale\":{\"diverging\":[[0,\"#8e0152\"],[0.1,\"#c51b7d\"],[0.2,\"#de77ae\"],[0.3,\"#f1b6da\"],[0.4,\"#fde0ef\"],[0.5,\"#f7f7f7\"],[0.6,\"#e6f5d0\"],[0.7,\"#b8e186\"],[0.8,\"#7fbc41\"],[0.9,\"#4d9221\"],[1,\"#276419\"]],\"sequential\":[[0.0,\"#0d0887\"],[0.1111111111111111,\"#46039f\"],[0.2222222222222222,\"#7201a8\"],[0.3333333333333333,\"#9c179e\"],[0.4444444444444444,\"#bd3786\"],[0.5555555555555556,\"#d8576b\"],[0.6666666666666666,\"#ed7953\"],[0.7777777777777778,\"#fb9f3a\"],[0.8888888888888888,\"#fdca26\"],[1.0,\"#f0f921\"]],\"sequentialminus\":[[0.0,\"#0d0887\"],[0.1111111111111111,\"#46039f\"],[0.2222222222222222,\"#7201a8\"],[0.3333333333333333,\"#9c179e\"],[0.4444444444444444,\"#bd3786\"],[0.5555555555555556,\"#d8576b\"],[0.6666666666666666,\"#ed7953\"],[0.7777777777777778,\"#fb9f3a\"],[0.8888888888888888,\"#fdca26\"],[1.0,\"#f0f921\"]]},\"colorway\":[\"#636efa\",\"#EF553B\",\"#00cc96\",\"#ab63fa\",\"#FFA15A\",\"#19d3f3\",\"#FF6692\",\"#B6E880\",\"#FF97FF\",\"#FECB52\"],\"font\":{\"color\":\"#2a3f5f\"},\"geo\":{\"bgcolor\":\"white\",\"lakecolor\":\"white\",\"landcolor\":\"#E5ECF6\",\"showlakes\":true,\"showland\":true,\"subunitcolor\":\"white\"},\"hoverlabel\":{\"align\":\"left\"},\"hovermode\":\"closest\",\"mapbox\":{\"style\":\"light\"},\"paper_bgcolor\":\"white\",\"plot_bgcolor\":\"#E5ECF6\",\"polar\":{\"angularaxis\":{\"gridcolor\":\"white\",\"linecolor\":\"white\",\"ticks\":\"\"},\"bgcolor\":\"#E5ECF6\",\"radialaxis\":{\"gridcolor\":\"white\",\"linecolor\":\"white\",\"ticks\":\"\"}},\"scene\":{\"xaxis\":{\"backgroundcolor\":\"#E5ECF6\",\"gridcolor\":\"white\",\"gridwidth\":2,\"linecolor\":\"white\",\"showbackground\":true,\"ticks\":\"\",\"zerolinecolor\":\"white\"},\"yaxis\":{\"backgroundcolor\":\"#E5ECF6\",\"gridcolor\":\"white\",\"gridwidth\":2,\"linecolor\":\"white\",\"showbackground\":true,\"ticks\":\"\",\"zerolinecolor\":\"white\"},\"zaxis\":{\"backgroundcolor\":\"#E5ECF6\",\"gridcolor\":\"white\",\"gridwidth\":2,\"linecolor\":\"white\",\"showbackground\":true,\"ticks\":\"\",\"zerolinecolor\":\"white\"}},\"shapedefaults\":{\"line\":{\"color\":\"#2a3f5f\"}},\"ternary\":{\"aaxis\":{\"gridcolor\":\"white\",\"linecolor\":\"white\",\"ticks\":\"\"},\"baxis\":{\"gridcolor\":\"white\",\"linecolor\":\"white\",\"ticks\":\"\"},\"bgcolor\":\"#E5ECF6\",\"caxis\":{\"gridcolor\":\"white\",\"linecolor\":\"white\",\"ticks\":\"\"}},\"title\":{\"x\":0.05},\"xaxis\":{\"automargin\":true,\"gridcolor\":\"white\",\"linecolor\":\"white\",\"ticks\":\"\",\"title\":{\"standoff\":15},\"zerolinecolor\":\"white\",\"zerolinewidth\":2},\"yaxis\":{\"automargin\":true,\"gridcolor\":\"white\",\"linecolor\":\"white\",\"ticks\":\"\",\"title\":{\"standoff\":15},\"zerolinecolor\":\"white\",\"zerolinewidth\":2}}},\"xaxis\":{\"anchor\":\"y\",\"domain\":[0.0,1.0],\"title\":{\"text\":\"Country\"}},\"yaxis\":{\"anchor\":\"x\",\"domain\":[0.0,1.0],\"title\":{\"text\":\"Cost Per Month - Standard ($)\"}},\"coloraxis\":{\"colorbar\":{\"title\":{\"text\":\"Cost Per Month - Standard ($)\"}},\"colorscale\":[[0.0,\"#0d0887\"],[0.1111111111111111,\"#46039f\"],[0.2222222222222222,\"#7201a8\"],[0.3333333333333333,\"#9c179e\"],[0.4444444444444444,\"#bd3786\"],[0.5555555555555556,\"#d8576b\"],[0.6666666666666666,\"#ed7953\"],[0.7777777777777778,\"#fb9f3a\"],[0.8888888888888888,\"#fdca26\"],[1.0,\"#f0f921\"]]},\"legend\":{\"tracegroupgap\":0},\"margin\":{\"t\":60},\"barmode\":\"relative\"},                        {\"responsive\": true}                    ).then(function(){\n",
       "                            \n",
       "var gd = document.getElementById('d5fe092e-3e7f-4b0f-a85e-9ab388d8d9e3');\n",
       "var x = new MutationObserver(function (mutations, observer) {{\n",
       "        var display = window.getComputedStyle(gd).display;\n",
       "        if (!display || display === 'none') {{\n",
       "            console.log([gd, 'removed!']);\n",
       "            Plotly.purge(gd);\n",
       "            observer.disconnect();\n",
       "        }}\n",
       "}});\n",
       "\n",
       "// Listen for the removal of the full notebook cells\n",
       "var notebookContainer = gd.closest('#notebook-container');\n",
       "if (notebookContainer) {{\n",
       "    x.observe(notebookContainer, {childList: true});\n",
       "}}\n",
       "\n",
       "// Listen for the clearing of the current output cell\n",
       "var outputEl = gd.closest('.output');\n",
       "if (outputEl) {{\n",
       "    x.observe(outputEl, {childList: true});\n",
       "}}\n",
       "\n",
       "                        })                };                });            </script>        </div>"
      ]
     },
     "metadata": {},
     "output_type": "display_data"
    }
   ],
   "source": [
    "fig_s = px.bar(netflix_df, x='Country', y='Cost Per Month - Standard ($)', color = \"Cost Per Month - Standard ($)\")\n",
    "fig_s.show()"
   ]
  },
  {
   "cell_type": "code",
   "execution_count": 10,
   "id": "ee62c1d1",
   "metadata": {
    "execution": {
     "iopub.execute_input": "2023-04-16T03:58:10.377891Z",
     "iopub.status.busy": "2023-04-16T03:58:10.377190Z",
     "iopub.status.idle": "2023-04-16T03:58:10.561885Z",
     "shell.execute_reply": "2023-04-16T03:58:10.562261Z",
     "shell.execute_reply.started": "2022-05-05T20:02:17.934659Z"
    },
    "papermill": {
     "duration": 0.215714,
     "end_time": "2023-04-16T03:58:10.562430",
     "exception": false,
     "start_time": "2023-04-16T03:58:10.346716",
     "status": "completed"
    },
    "tags": []
   },
   "outputs": [
    {
     "data": {
      "text/html": [
       "<div>                            <div id=\"0068da4c-78e4-48e9-8e1e-2d9a9e8e0794\" class=\"plotly-graph-div\" style=\"height:525px; width:100%;\"></div>            <script type=\"text/javascript\">                require([\"plotly\"], function(Plotly) {                    window.PLOTLYENV=window.PLOTLYENV || {};                                    if (document.getElementById(\"0068da4c-78e4-48e9-8e1e-2d9a9e8e0794\")) {                    Plotly.newPlot(                        \"0068da4c-78e4-48e9-8e1e-2d9a9e8e0794\",                        [{\"hovertemplate\":\"Cost Per Month - Premium ($)=%{y}<br>Country=%{x}<extra></extra>\",\"legendgroup\":\"9.26\",\"line\":{\"color\":\"#636efa\"},\"marker\":{\"symbol\":\"circle\"},\"mode\":\"lines\",\"name\":\"9.26\",\"orientation\":\"v\",\"showlegend\":true,\"stackgroup\":\"1\",\"x\":[\"Argentina\"],\"xaxis\":\"x\",\"y\":[9.26],\"yaxis\":\"y\",\"type\":\"scatter\"},{\"hovertemplate\":\"Cost Per Month - Premium ($)=%{y}<br>Country=%{x}<extra></extra>\",\"legendgroup\":\"16.39\",\"line\":{\"color\":\"#EF553B\"},\"marker\":{\"symbol\":\"circle\"},\"mode\":\"lines\",\"name\":\"16.39\",\"orientation\":\"v\",\"showlegend\":true,\"stackgroup\":\"1\",\"x\":[\"Australia\"],\"xaxis\":\"x\",\"y\":[16.39],\"yaxis\":\"y\",\"type\":\"scatter\"},{\"hovertemplate\":\"Cost Per Month - Premium ($)=%{y}<br>Country=%{x}<extra></extra>\",\"legendgroup\":\"20.32\",\"line\":{\"color\":\"#00cc96\"},\"marker\":{\"symbol\":\"circle\"},\"mode\":\"lines\",\"name\":\"20.32\",\"orientation\":\"v\",\"showlegend\":true,\"stackgroup\":\"1\",\"x\":[\"Austria\",\"Belgium\",\"France\",\"Germany\",\"Gibraltar\",\"Iceland\",\"Ireland\",\"Italy\",\"San Marino\",\"Spain\"],\"xaxis\":\"x\",\"y\":[20.32,20.32,20.32,20.32,20.32,20.32,20.32,20.32,20.32,20.32],\"yaxis\":\"y\",\"type\":\"scatter\"},{\"hovertemplate\":\"Cost Per Month - Premium ($)=%{y}<br>Country=%{x}<extra></extra>\",\"legendgroup\":\"13.99\",\"line\":{\"color\":\"#ab63fa\"},\"marker\":{\"symbol\":\"circle\"},\"mode\":\"lines\",\"name\":\"13.99\",\"orientation\":\"v\",\"showlegend\":true,\"stackgroup\":\"1\",\"x\":[\"Bolivia\",\"Ecuador\",\"Guatemala\",\"Honduras\",\"Venezuela\"],\"xaxis\":\"x\",\"y\":[13.99,13.99,13.99,13.99,13.99],\"yaxis\":\"y\",\"type\":\"scatter\"},{\"hovertemplate\":\"Cost Per Month - Premium ($)=%{y}<br>Country=%{x}<extra></extra>\",\"legendgroup\":\"9.96\",\"line\":{\"color\":\"#FFA15A\"},\"marker\":{\"symbol\":\"circle\"},\"mode\":\"lines\",\"name\":\"9.96\",\"orientation\":\"v\",\"showlegend\":true,\"stackgroup\":\"1\",\"x\":[\"Brazil\"],\"xaxis\":\"x\",\"y\":[9.96],\"yaxis\":\"y\",\"type\":\"scatter\"},{\"hovertemplate\":\"Cost Per Month - Premium ($)=%{y}<br>Country=%{x}<extra></extra>\",\"legendgroup\":\"13.54\",\"line\":{\"color\":\"#19d3f3\"},\"marker\":{\"symbol\":\"circle\"},\"mode\":\"lines\",\"name\":\"13.54\",\"orientation\":\"v\",\"showlegend\":true,\"stackgroup\":\"1\",\"x\":[\"Bulgaria\",\"Croatia\",\"Estonia\",\"Latvia\",\"Lithuania\",\"Moldova\",\"Romania\",\"Slovakia\"],\"xaxis\":\"x\",\"y\":[13.54,13.54,13.54,13.54,13.54,13.54,13.54,13.54],\"yaxis\":\"y\",\"type\":\"scatter\"},{\"hovertemplate\":\"Cost Per Month - Premium ($)=%{y}<br>Country=%{x}<extra></extra>\",\"legendgroup\":\"15.03\",\"line\":{\"color\":\"#FF6692\"},\"marker\":{\"symbol\":\"circle\"},\"mode\":\"lines\",\"name\":\"15.03\",\"orientation\":\"v\",\"showlegend\":true,\"stackgroup\":\"1\",\"x\":[\"Canada\"],\"xaxis\":\"x\",\"y\":[15.03],\"yaxis\":\"y\",\"type\":\"scatter\"},{\"hovertemplate\":\"Cost Per Month - Premium ($)=%{y}<br>Country=%{x}<extra></extra>\",\"legendgroup\":\"12.74\",\"line\":{\"color\":\"#B6E880\"},\"marker\":{\"symbol\":\"circle\"},\"mode\":\"lines\",\"name\":\"12.74\",\"orientation\":\"v\",\"showlegend\":true,\"stackgroup\":\"1\",\"x\":[\"Chile\"],\"xaxis\":\"x\",\"y\":[12.74],\"yaxis\":\"y\",\"type\":\"scatter\"},{\"hovertemplate\":\"Cost Per Month - Premium ($)=%{y}<br>Country=%{x}<extra></extra>\",\"legendgroup\":\"9.93\",\"line\":{\"color\":\"#FF97FF\"},\"marker\":{\"symbol\":\"circle\"},\"mode\":\"lines\",\"name\":\"9.93\",\"orientation\":\"v\",\"showlegend\":true,\"stackgroup\":\"1\",\"x\":[\"Colombia\"],\"xaxis\":\"x\",\"y\":[9.93],\"yaxis\":\"y\",\"type\":\"scatter\"},{\"hovertemplate\":\"Cost Per Month - Premium ($)=%{y}<br>Country=%{x}<extra></extra>\",\"legendgroup\":\"15.99\",\"line\":{\"color\":\"#FECB52\"},\"marker\":{\"symbol\":\"circle\"},\"mode\":\"lines\",\"name\":\"15.99\",\"orientation\":\"v\",\"showlegend\":true,\"stackgroup\":\"1\",\"x\":[\"Costa Rica\",\"Uruguay\"],\"xaxis\":\"x\",\"y\":[15.99,15.99],\"yaxis\":\"y\",\"type\":\"scatter\"},{\"hovertemplate\":\"Cost Per Month - Premium ($)=%{y}<br>Country=%{x}<extra></extra>\",\"legendgroup\":\"14.15\",\"line\":{\"color\":\"#636efa\"},\"marker\":{\"symbol\":\"circle\"},\"mode\":\"lines\",\"name\":\"14.15\",\"orientation\":\"v\",\"showlegend\":true,\"stackgroup\":\"1\",\"x\":[\"Czechia\"],\"xaxis\":\"x\",\"y\":[14.15],\"yaxis\":\"y\",\"type\":\"scatter\"},{\"hovertemplate\":\"Cost Per Month - Premium ($)=%{y}<br>Country=%{x}<extra></extra>\",\"legendgroup\":\"19.6\",\"line\":{\"color\":\"#EF553B\"},\"marker\":{\"symbol\":\"circle\"},\"mode\":\"lines\",\"name\":\"19.6\",\"orientation\":\"v\",\"showlegend\":true,\"stackgroup\":\"1\",\"x\":[\"Denmark\"],\"xaxis\":\"x\",\"y\":[19.6],\"yaxis\":\"y\",\"type\":\"scatter\"},{\"hovertemplate\":\"Cost Per Month - Premium ($)=%{y}<br>Country=%{x}<extra></extra>\",\"legendgroup\":\"18.06\",\"line\":{\"color\":\"#00cc96\"},\"marker\":{\"symbol\":\"circle\"},\"mode\":\"lines\",\"name\":\"18.06\",\"orientation\":\"v\",\"showlegend\":true,\"stackgroup\":\"1\",\"x\":[\"Finland\",\"Monaco\",\"Netherlands\",\"Portugal\"],\"xaxis\":\"x\",\"y\":[18.06,18.06,18.06,18.06],\"yaxis\":\"y\",\"type\":\"scatter\"},{\"hovertemplate\":\"Cost Per Month - Premium ($)=%{y}<br>Country=%{x}<extra></extra>\",\"legendgroup\":\"15.8\",\"line\":{\"color\":\"#ab63fa\"},\"marker\":{\"symbol\":\"circle\"},\"mode\":\"lines\",\"name\":\"15.8\",\"orientation\":\"v\",\"showlegend\":true,\"stackgroup\":\"1\",\"x\":[\"Greece\"],\"xaxis\":\"x\",\"y\":[15.8],\"yaxis\":\"y\",\"type\":\"scatter\"},{\"hovertemplate\":\"Cost Per Month - Premium ($)=%{y}<br>Country=%{x}<extra></extra>\",\"legendgroup\":\"11.93\",\"line\":{\"color\":\"#FFA15A\"},\"marker\":{\"symbol\":\"circle\"},\"mode\":\"lines\",\"name\":\"11.93\",\"orientation\":\"v\",\"showlegend\":true,\"stackgroup\":\"1\",\"x\":[\"Hong Kong\"],\"xaxis\":\"x\",\"y\":[11.93],\"yaxis\":\"y\",\"type\":\"scatter\"},{\"hovertemplate\":\"Cost Per Month - Premium ($)=%{y}<br>Country=%{x}<extra></extra>\",\"legendgroup\":\"13.78\",\"line\":{\"color\":\"#19d3f3\"},\"marker\":{\"symbol\":\"circle\"},\"mode\":\"lines\",\"name\":\"13.78\",\"orientation\":\"v\",\"showlegend\":true,\"stackgroup\":\"1\",\"x\":[\"Hungary\"],\"xaxis\":\"x\",\"y\":[13.78],\"yaxis\":\"y\",\"type\":\"scatter\"},{\"hovertemplate\":\"Cost Per Month - Premium ($)=%{y}<br>Country=%{x}<extra></extra>\",\"legendgroup\":\"8.6\",\"line\":{\"color\":\"#FF6692\"},\"marker\":{\"symbol\":\"circle\"},\"mode\":\"lines\",\"name\":\"8.6\",\"orientation\":\"v\",\"showlegend\":true,\"stackgroup\":\"1\",\"x\":[\"India\"],\"xaxis\":\"x\",\"y\":[8.6],\"yaxis\":\"y\",\"type\":\"scatter\"},{\"hovertemplate\":\"Cost Per Month - Premium ($)=%{y}<br>Country=%{x}<extra></extra>\",\"legendgroup\":\"12.96\",\"line\":{\"color\":\"#B6E880\"},\"marker\":{\"symbol\":\"circle\"},\"mode\":\"lines\",\"name\":\"12.96\",\"orientation\":\"v\",\"showlegend\":true,\"stackgroup\":\"1\",\"x\":[\"Indonesia\"],\"xaxis\":\"x\",\"y\":[12.96],\"yaxis\":\"y\",\"type\":\"scatter\"},{\"hovertemplate\":\"Cost Per Month - Premium ($)=%{y}<br>Country=%{x}<extra></extra>\",\"legendgroup\":\"19.54\",\"line\":{\"color\":\"#FF97FF\"},\"marker\":{\"symbol\":\"circle\"},\"mode\":\"lines\",\"name\":\"19.54\",\"orientation\":\"v\",\"showlegend\":true,\"stackgroup\":\"1\",\"x\":[\"Israel\"],\"xaxis\":\"x\",\"y\":[19.54],\"yaxis\":\"y\",\"type\":\"scatter\"},{\"hovertemplate\":\"Cost Per Month - Premium ($)=%{y}<br>Country=%{x}<extra></extra>\",\"legendgroup\":\"17.45\",\"line\":{\"color\":\"#FECB52\"},\"marker\":{\"symbol\":\"circle\"},\"mode\":\"lines\",\"name\":\"17.45\",\"orientation\":\"v\",\"showlegend\":true,\"stackgroup\":\"1\",\"x\":[\"Japan\"],\"xaxis\":\"x\",\"y\":[17.45],\"yaxis\":\"y\",\"type\":\"scatter\"},{\"hovertemplate\":\"Cost Per Month - Premium ($)=%{y}<br>Country=%{x}<extra></extra>\",\"legendgroup\":\"26.96\",\"line\":{\"color\":\"#636efa\"},\"marker\":{\"symbol\":\"circle\"},\"mode\":\"lines\",\"name\":\"26.96\",\"orientation\":\"v\",\"showlegend\":true,\"stackgroup\":\"1\",\"x\":[\"Liechtenstein\",\"Switzerland\"],\"xaxis\":\"x\",\"y\":[26.96,26.96],\"yaxis\":\"y\",\"type\":\"scatter\"},{\"hovertemplate\":\"Cost Per Month - Premium ($)=%{y}<br>Country=%{x}<extra></extra>\",\"legendgroup\":\"13.02\",\"line\":{\"color\":\"#EF553B\"},\"marker\":{\"symbol\":\"circle\"},\"mode\":\"lines\",\"name\":\"13.02\",\"orientation\":\"v\",\"showlegend\":true,\"stackgroup\":\"1\",\"x\":[\"Malaysia\"],\"xaxis\":\"x\",\"y\":[13.02],\"yaxis\":\"y\",\"type\":\"scatter\"},{\"hovertemplate\":\"Cost Per Month - Premium ($)=%{y}<br>Country=%{x}<extra></extra>\",\"legendgroup\":\"14.24\",\"line\":{\"color\":\"#00cc96\"},\"marker\":{\"symbol\":\"circle\"},\"mode\":\"lines\",\"name\":\"14.24\",\"orientation\":\"v\",\"showlegend\":true,\"stackgroup\":\"1\",\"x\":[\"Mexico\"],\"xaxis\":\"x\",\"y\":[14.24],\"yaxis\":\"y\",\"type\":\"scatter\"},{\"hovertemplate\":\"Cost Per Month - Premium ($)=%{y}<br>Country=%{x}<extra></extra>\",\"legendgroup\":\"16.94\",\"line\":{\"color\":\"#ab63fa\"},\"marker\":{\"symbol\":\"circle\"},\"mode\":\"lines\",\"name\":\"16.94\",\"orientation\":\"v\",\"showlegend\":true,\"stackgroup\":\"1\",\"x\":[\"New Zealand\"],\"xaxis\":\"x\",\"y\":[16.94],\"yaxis\":\"y\",\"type\":\"scatter\"},{\"hovertemplate\":\"Cost Per Month - Premium ($)=%{y}<br>Country=%{x}<extra></extra>\",\"legendgroup\":\"17.75\",\"line\":{\"color\":\"#FFA15A\"},\"marker\":{\"symbol\":\"circle\"},\"mode\":\"lines\",\"name\":\"17.75\",\"orientation\":\"v\",\"showlegend\":true,\"stackgroup\":\"1\",\"x\":[\"Norway\"],\"xaxis\":\"x\",\"y\":[17.75],\"yaxis\":\"y\",\"type\":\"scatter\"},{\"hovertemplate\":\"Cost Per Month - Premium ($)=%{y}<br>Country=%{x}<extra></extra>\",\"legendgroup\":\"14.69\",\"line\":{\"color\":\"#19d3f3\"},\"marker\":{\"symbol\":\"circle\"},\"mode\":\"lines\",\"name\":\"14.69\",\"orientation\":\"v\",\"showlegend\":true,\"stackgroup\":\"1\",\"x\":[\"Paraguay\"],\"xaxis\":\"x\",\"y\":[14.69],\"yaxis\":\"y\",\"type\":\"scatter\"},{\"hovertemplate\":\"Cost Per Month - Premium ($)=%{y}<br>Country=%{x}<extra></extra>\",\"legendgroup\":\"11.01\",\"line\":{\"color\":\"#FF6692\"},\"marker\":{\"symbol\":\"circle\"},\"mode\":\"lines\",\"name\":\"11.01\",\"orientation\":\"v\",\"showlegend\":true,\"stackgroup\":\"1\",\"x\":[\"Peru\"],\"xaxis\":\"x\",\"y\":[11.01],\"yaxis\":\"y\",\"type\":\"scatter\"},{\"hovertemplate\":\"Cost Per Month - Premium ($)=%{y}<br>Country=%{x}<extra></extra>\",\"legendgroup\":\"10.93\",\"line\":{\"color\":\"#B6E880\"},\"marker\":{\"symbol\":\"circle\"},\"mode\":\"lines\",\"name\":\"10.93\",\"orientation\":\"v\",\"showlegend\":true,\"stackgroup\":\"1\",\"x\":[\"Philippines\"],\"xaxis\":\"x\",\"y\":[10.93],\"yaxis\":\"y\",\"type\":\"scatter\"},{\"hovertemplate\":\"Cost Per Month - Premium ($)=%{y}<br>Country=%{x}<extra></extra>\",\"legendgroup\":\"14.76\",\"line\":{\"color\":\"#FF97FF\"},\"marker\":{\"symbol\":\"circle\"},\"mode\":\"lines\",\"name\":\"14.76\",\"orientation\":\"v\",\"showlegend\":true,\"stackgroup\":\"1\",\"x\":[\"Poland\"],\"xaxis\":\"x\",\"y\":[14.76],\"yaxis\":\"y\",\"type\":\"scatter\"},{\"hovertemplate\":\"Cost Per Month - Premium ($)=%{y}<br>Country=%{x}<extra></extra>\",\"legendgroup\":\"13.56\",\"line\":{\"color\":\"#FECB52\"},\"marker\":{\"symbol\":\"circle\"},\"mode\":\"lines\",\"name\":\"13.56\",\"orientation\":\"v\",\"showlegend\":true,\"stackgroup\":\"1\",\"x\":[\"Russia\"],\"xaxis\":\"x\",\"y\":[13.56],\"yaxis\":\"y\",\"type\":\"scatter\"},{\"hovertemplate\":\"Cost Per Month - Premium ($)=%{y}<br>Country=%{x}<extra></extra>\",\"legendgroup\":\"16.11\",\"line\":{\"color\":\"#636efa\"},\"marker\":{\"symbol\":\"circle\"},\"mode\":\"lines\",\"name\":\"16.11\",\"orientation\":\"v\",\"showlegend\":true,\"stackgroup\":\"1\",\"x\":[\"Singapore\"],\"xaxis\":\"x\",\"y\":[16.11],\"yaxis\":\"y\",\"type\":\"scatter\"},{\"hovertemplate\":\"Cost Per Month - Premium ($)=%{y}<br>Country=%{x}<extra></extra>\",\"legendgroup\":\"12.58\",\"line\":{\"color\":\"#EF553B\"},\"marker\":{\"symbol\":\"circle\"},\"mode\":\"lines\",\"name\":\"12.58\",\"orientation\":\"v\",\"showlegend\":true,\"stackgroup\":\"1\",\"x\":[\"South Africa\"],\"xaxis\":\"x\",\"y\":[12.58],\"yaxis\":\"y\",\"type\":\"scatter\"},{\"hovertemplate\":\"Cost Per Month - Premium ($)=%{y}<br>Country=%{x}<extra></extra>\",\"legendgroup\":\"14.45\",\"line\":{\"color\":\"#00cc96\"},\"marker\":{\"symbol\":\"circle\"},\"mode\":\"lines\",\"name\":\"14.45\",\"orientation\":\"v\",\"showlegend\":true,\"stackgroup\":\"1\",\"x\":[\"South Korea\"],\"xaxis\":\"x\",\"y\":[14.45],\"yaxis\":\"y\",\"type\":\"scatter\"},{\"hovertemplate\":\"Cost Per Month - Premium ($)=%{y}<br>Country=%{x}<extra></extra>\",\"legendgroup\":\"19.7\",\"line\":{\"color\":\"#ab63fa\"},\"marker\":{\"symbol\":\"circle\"},\"mode\":\"lines\",\"name\":\"19.7\",\"orientation\":\"v\",\"showlegend\":true,\"stackgroup\":\"1\",\"x\":[\"Sweden\"],\"xaxis\":\"x\",\"y\":[19.7],\"yaxis\":\"y\",\"type\":\"scatter\"},{\"hovertemplate\":\"Cost Per Month - Premium ($)=%{y}<br>Country=%{x}<extra></extra>\",\"legendgroup\":\"14.07\",\"line\":{\"color\":\"#FFA15A\"},\"marker\":{\"symbol\":\"circle\"},\"mode\":\"lines\",\"name\":\"14.07\",\"orientation\":\"v\",\"showlegend\":true,\"stackgroup\":\"1\",\"x\":[\"Taiwan\"],\"xaxis\":\"x\",\"y\":[14.07],\"yaxis\":\"y\",\"type\":\"scatter\"},{\"hovertemplate\":\"Cost Per Month - Premium ($)=%{y}<br>Country=%{x}<extra></extra>\",\"legendgroup\":\"12.52\",\"line\":{\"color\":\"#19d3f3\"},\"marker\":{\"symbol\":\"circle\"},\"mode\":\"lines\",\"name\":\"12.52\",\"orientation\":\"v\",\"showlegend\":true,\"stackgroup\":\"1\",\"x\":[\"Thailand\"],\"xaxis\":\"x\",\"y\":[12.52],\"yaxis\":\"y\",\"type\":\"scatter\"},{\"hovertemplate\":\"Cost Per Month - Premium ($)=%{y}<br>Country=%{x}<extra></extra>\",\"legendgroup\":\"4.02\",\"line\":{\"color\":\"#FF6692\"},\"marker\":{\"symbol\":\"circle\"},\"mode\":\"lines\",\"name\":\"4.02\",\"orientation\":\"v\",\"showlegend\":true,\"stackgroup\":\"1\",\"x\":[\"Turkey\"],\"xaxis\":\"x\",\"y\":[4.02],\"yaxis\":\"y\",\"type\":\"scatter\"},{\"hovertemplate\":\"Cost Per Month - Premium ($)=%{y}<br>Country=%{x}<extra></extra>\",\"legendgroup\":\"11.29\",\"line\":{\"color\":\"#B6E880\"},\"marker\":{\"symbol\":\"circle\"},\"mode\":\"lines\",\"name\":\"11.29\",\"orientation\":\"v\",\"showlegend\":true,\"stackgroup\":\"1\",\"x\":[\"Ukraine\"],\"xaxis\":\"x\",\"y\":[11.29],\"yaxis\":\"y\",\"type\":\"scatter\"},{\"hovertemplate\":\"Cost Per Month - Premium ($)=%{y}<br>Country=%{x}<extra></extra>\",\"legendgroup\":\"18.48\",\"line\":{\"color\":\"#FF97FF\"},\"marker\":{\"symbol\":\"circle\"},\"mode\":\"lines\",\"name\":\"18.48\",\"orientation\":\"v\",\"showlegend\":true,\"stackgroup\":\"1\",\"x\":[\"United Kingdom\"],\"xaxis\":\"x\",\"y\":[18.48],\"yaxis\":\"y\",\"type\":\"scatter\"},{\"hovertemplate\":\"Cost Per Month - Premium ($)=%{y}<br>Country=%{x}<extra></extra>\",\"legendgroup\":\"17.99\",\"line\":{\"color\":\"#FECB52\"},\"marker\":{\"symbol\":\"circle\"},\"mode\":\"lines\",\"name\":\"17.99\",\"orientation\":\"v\",\"showlegend\":true,\"stackgroup\":\"1\",\"x\":[\"United States\"],\"xaxis\":\"x\",\"y\":[17.99],\"yaxis\":\"y\",\"type\":\"scatter\"}],                        {\"template\":{\"data\":{\"bar\":[{\"error_x\":{\"color\":\"#2a3f5f\"},\"error_y\":{\"color\":\"#2a3f5f\"},\"marker\":{\"line\":{\"color\":\"#E5ECF6\",\"width\":0.5},\"pattern\":{\"fillmode\":\"overlay\",\"size\":10,\"solidity\":0.2}},\"type\":\"bar\"}],\"barpolar\":[{\"marker\":{\"line\":{\"color\":\"#E5ECF6\",\"width\":0.5},\"pattern\":{\"fillmode\":\"overlay\",\"size\":10,\"solidity\":0.2}},\"type\":\"barpolar\"}],\"carpet\":[{\"aaxis\":{\"endlinecolor\":\"#2a3f5f\",\"gridcolor\":\"white\",\"linecolor\":\"white\",\"minorgridcolor\":\"white\",\"startlinecolor\":\"#2a3f5f\"},\"baxis\":{\"endlinecolor\":\"#2a3f5f\",\"gridcolor\":\"white\",\"linecolor\":\"white\",\"minorgridcolor\":\"white\",\"startlinecolor\":\"#2a3f5f\"},\"type\":\"carpet\"}],\"choropleth\":[{\"colorbar\":{\"outlinewidth\":0,\"ticks\":\"\"},\"type\":\"choropleth\"}],\"contour\":[{\"colorbar\":{\"outlinewidth\":0,\"ticks\":\"\"},\"colorscale\":[[0.0,\"#0d0887\"],[0.1111111111111111,\"#46039f\"],[0.2222222222222222,\"#7201a8\"],[0.3333333333333333,\"#9c179e\"],[0.4444444444444444,\"#bd3786\"],[0.5555555555555556,\"#d8576b\"],[0.6666666666666666,\"#ed7953\"],[0.7777777777777778,\"#fb9f3a\"],[0.8888888888888888,\"#fdca26\"],[1.0,\"#f0f921\"]],\"type\":\"contour\"}],\"contourcarpet\":[{\"colorbar\":{\"outlinewidth\":0,\"ticks\":\"\"},\"type\":\"contourcarpet\"}],\"heatmap\":[{\"colorbar\":{\"outlinewidth\":0,\"ticks\":\"\"},\"colorscale\":[[0.0,\"#0d0887\"],[0.1111111111111111,\"#46039f\"],[0.2222222222222222,\"#7201a8\"],[0.3333333333333333,\"#9c179e\"],[0.4444444444444444,\"#bd3786\"],[0.5555555555555556,\"#d8576b\"],[0.6666666666666666,\"#ed7953\"],[0.7777777777777778,\"#fb9f3a\"],[0.8888888888888888,\"#fdca26\"],[1.0,\"#f0f921\"]],\"type\":\"heatmap\"}],\"heatmapgl\":[{\"colorbar\":{\"outlinewidth\":0,\"ticks\":\"\"},\"colorscale\":[[0.0,\"#0d0887\"],[0.1111111111111111,\"#46039f\"],[0.2222222222222222,\"#7201a8\"],[0.3333333333333333,\"#9c179e\"],[0.4444444444444444,\"#bd3786\"],[0.5555555555555556,\"#d8576b\"],[0.6666666666666666,\"#ed7953\"],[0.7777777777777778,\"#fb9f3a\"],[0.8888888888888888,\"#fdca26\"],[1.0,\"#f0f921\"]],\"type\":\"heatmapgl\"}],\"histogram\":[{\"marker\":{\"pattern\":{\"fillmode\":\"overlay\",\"size\":10,\"solidity\":0.2}},\"type\":\"histogram\"}],\"histogram2d\":[{\"colorbar\":{\"outlinewidth\":0,\"ticks\":\"\"},\"colorscale\":[[0.0,\"#0d0887\"],[0.1111111111111111,\"#46039f\"],[0.2222222222222222,\"#7201a8\"],[0.3333333333333333,\"#9c179e\"],[0.4444444444444444,\"#bd3786\"],[0.5555555555555556,\"#d8576b\"],[0.6666666666666666,\"#ed7953\"],[0.7777777777777778,\"#fb9f3a\"],[0.8888888888888888,\"#fdca26\"],[1.0,\"#f0f921\"]],\"type\":\"histogram2d\"}],\"histogram2dcontour\":[{\"colorbar\":{\"outlinewidth\":0,\"ticks\":\"\"},\"colorscale\":[[0.0,\"#0d0887\"],[0.1111111111111111,\"#46039f\"],[0.2222222222222222,\"#7201a8\"],[0.3333333333333333,\"#9c179e\"],[0.4444444444444444,\"#bd3786\"],[0.5555555555555556,\"#d8576b\"],[0.6666666666666666,\"#ed7953\"],[0.7777777777777778,\"#fb9f3a\"],[0.8888888888888888,\"#fdca26\"],[1.0,\"#f0f921\"]],\"type\":\"histogram2dcontour\"}],\"mesh3d\":[{\"colorbar\":{\"outlinewidth\":0,\"ticks\":\"\"},\"type\":\"mesh3d\"}],\"parcoords\":[{\"line\":{\"colorbar\":{\"outlinewidth\":0,\"ticks\":\"\"}},\"type\":\"parcoords\"}],\"pie\":[{\"automargin\":true,\"type\":\"pie\"}],\"scatter\":[{\"marker\":{\"colorbar\":{\"outlinewidth\":0,\"ticks\":\"\"}},\"type\":\"scatter\"}],\"scatter3d\":[{\"line\":{\"colorbar\":{\"outlinewidth\":0,\"ticks\":\"\"}},\"marker\":{\"colorbar\":{\"outlinewidth\":0,\"ticks\":\"\"}},\"type\":\"scatter3d\"}],\"scattercarpet\":[{\"marker\":{\"colorbar\":{\"outlinewidth\":0,\"ticks\":\"\"}},\"type\":\"scattercarpet\"}],\"scattergeo\":[{\"marker\":{\"colorbar\":{\"outlinewidth\":0,\"ticks\":\"\"}},\"type\":\"scattergeo\"}],\"scattergl\":[{\"marker\":{\"colorbar\":{\"outlinewidth\":0,\"ticks\":\"\"}},\"type\":\"scattergl\"}],\"scattermapbox\":[{\"marker\":{\"colorbar\":{\"outlinewidth\":0,\"ticks\":\"\"}},\"type\":\"scattermapbox\"}],\"scatterpolar\":[{\"marker\":{\"colorbar\":{\"outlinewidth\":0,\"ticks\":\"\"}},\"type\":\"scatterpolar\"}],\"scatterpolargl\":[{\"marker\":{\"colorbar\":{\"outlinewidth\":0,\"ticks\":\"\"}},\"type\":\"scatterpolargl\"}],\"scatterternary\":[{\"marker\":{\"colorbar\":{\"outlinewidth\":0,\"ticks\":\"\"}},\"type\":\"scatterternary\"}],\"surface\":[{\"colorbar\":{\"outlinewidth\":0,\"ticks\":\"\"},\"colorscale\":[[0.0,\"#0d0887\"],[0.1111111111111111,\"#46039f\"],[0.2222222222222222,\"#7201a8\"],[0.3333333333333333,\"#9c179e\"],[0.4444444444444444,\"#bd3786\"],[0.5555555555555556,\"#d8576b\"],[0.6666666666666666,\"#ed7953\"],[0.7777777777777778,\"#fb9f3a\"],[0.8888888888888888,\"#fdca26\"],[1.0,\"#f0f921\"]],\"type\":\"surface\"}],\"table\":[{\"cells\":{\"fill\":{\"color\":\"#EBF0F8\"},\"line\":{\"color\":\"white\"}},\"header\":{\"fill\":{\"color\":\"#C8D4E3\"},\"line\":{\"color\":\"white\"}},\"type\":\"table\"}]},\"layout\":{\"annotationdefaults\":{\"arrowcolor\":\"#2a3f5f\",\"arrowhead\":0,\"arrowwidth\":1},\"autotypenumbers\":\"strict\",\"coloraxis\":{\"colorbar\":{\"outlinewidth\":0,\"ticks\":\"\"}},\"colorscale\":{\"diverging\":[[0,\"#8e0152\"],[0.1,\"#c51b7d\"],[0.2,\"#de77ae\"],[0.3,\"#f1b6da\"],[0.4,\"#fde0ef\"],[0.5,\"#f7f7f7\"],[0.6,\"#e6f5d0\"],[0.7,\"#b8e186\"],[0.8,\"#7fbc41\"],[0.9,\"#4d9221\"],[1,\"#276419\"]],\"sequential\":[[0.0,\"#0d0887\"],[0.1111111111111111,\"#46039f\"],[0.2222222222222222,\"#7201a8\"],[0.3333333333333333,\"#9c179e\"],[0.4444444444444444,\"#bd3786\"],[0.5555555555555556,\"#d8576b\"],[0.6666666666666666,\"#ed7953\"],[0.7777777777777778,\"#fb9f3a\"],[0.8888888888888888,\"#fdca26\"],[1.0,\"#f0f921\"]],\"sequentialminus\":[[0.0,\"#0d0887\"],[0.1111111111111111,\"#46039f\"],[0.2222222222222222,\"#7201a8\"],[0.3333333333333333,\"#9c179e\"],[0.4444444444444444,\"#bd3786\"],[0.5555555555555556,\"#d8576b\"],[0.6666666666666666,\"#ed7953\"],[0.7777777777777778,\"#fb9f3a\"],[0.8888888888888888,\"#fdca26\"],[1.0,\"#f0f921\"]]},\"colorway\":[\"#636efa\",\"#EF553B\",\"#00cc96\",\"#ab63fa\",\"#FFA15A\",\"#19d3f3\",\"#FF6692\",\"#B6E880\",\"#FF97FF\",\"#FECB52\"],\"font\":{\"color\":\"#2a3f5f\"},\"geo\":{\"bgcolor\":\"white\",\"lakecolor\":\"white\",\"landcolor\":\"#E5ECF6\",\"showlakes\":true,\"showland\":true,\"subunitcolor\":\"white\"},\"hoverlabel\":{\"align\":\"left\"},\"hovermode\":\"closest\",\"mapbox\":{\"style\":\"light\"},\"paper_bgcolor\":\"white\",\"plot_bgcolor\":\"#E5ECF6\",\"polar\":{\"angularaxis\":{\"gridcolor\":\"white\",\"linecolor\":\"white\",\"ticks\":\"\"},\"bgcolor\":\"#E5ECF6\",\"radialaxis\":{\"gridcolor\":\"white\",\"linecolor\":\"white\",\"ticks\":\"\"}},\"scene\":{\"xaxis\":{\"backgroundcolor\":\"#E5ECF6\",\"gridcolor\":\"white\",\"gridwidth\":2,\"linecolor\":\"white\",\"showbackground\":true,\"ticks\":\"\",\"zerolinecolor\":\"white\"},\"yaxis\":{\"backgroundcolor\":\"#E5ECF6\",\"gridcolor\":\"white\",\"gridwidth\":2,\"linecolor\":\"white\",\"showbackground\":true,\"ticks\":\"\",\"zerolinecolor\":\"white\"},\"zaxis\":{\"backgroundcolor\":\"#E5ECF6\",\"gridcolor\":\"white\",\"gridwidth\":2,\"linecolor\":\"white\",\"showbackground\":true,\"ticks\":\"\",\"zerolinecolor\":\"white\"}},\"shapedefaults\":{\"line\":{\"color\":\"#2a3f5f\"}},\"ternary\":{\"aaxis\":{\"gridcolor\":\"white\",\"linecolor\":\"white\",\"ticks\":\"\"},\"baxis\":{\"gridcolor\":\"white\",\"linecolor\":\"white\",\"ticks\":\"\"},\"bgcolor\":\"#E5ECF6\",\"caxis\":{\"gridcolor\":\"white\",\"linecolor\":\"white\",\"ticks\":\"\"}},\"title\":{\"x\":0.05},\"xaxis\":{\"automargin\":true,\"gridcolor\":\"white\",\"linecolor\":\"white\",\"ticks\":\"\",\"title\":{\"standoff\":15},\"zerolinecolor\":\"white\",\"zerolinewidth\":2},\"yaxis\":{\"automargin\":true,\"gridcolor\":\"white\",\"linecolor\":\"white\",\"ticks\":\"\",\"title\":{\"standoff\":15},\"zerolinecolor\":\"white\",\"zerolinewidth\":2}}},\"xaxis\":{\"anchor\":\"y\",\"domain\":[0.0,1.0],\"title\":{\"text\":\"Country\"}},\"yaxis\":{\"anchor\":\"x\",\"domain\":[0.0,1.0],\"title\":{\"text\":\"Cost Per Month - Premium ($)\"},\"categoryorder\":\"array\",\"categoryarray\":[17.99,18.48,11.29,4.02,12.52,14.07,19.7,14.45,12.58,16.11,13.56,14.76,10.93,11.01,14.69,17.75,16.94,14.24,13.02,26.96,17.45,19.54,12.96,8.6,13.78,11.93,15.8,18.06,19.6,14.15,15.99,9.93,12.74,15.03,13.54,9.96,13.99,20.32,16.39,9.26]},\"legend\":{\"title\":{\"text\":\"Cost Per Month - Premium ($)\"},\"tracegroupgap\":0},\"margin\":{\"t\":60}},                        {\"responsive\": true}                    ).then(function(){\n",
       "                            \n",
       "var gd = document.getElementById('0068da4c-78e4-48e9-8e1e-2d9a9e8e0794');\n",
       "var x = new MutationObserver(function (mutations, observer) {{\n",
       "        var display = window.getComputedStyle(gd).display;\n",
       "        if (!display || display === 'none') {{\n",
       "            console.log([gd, 'removed!']);\n",
       "            Plotly.purge(gd);\n",
       "            observer.disconnect();\n",
       "        }}\n",
       "}});\n",
       "\n",
       "// Listen for the removal of the full notebook cells\n",
       "var notebookContainer = gd.closest('#notebook-container');\n",
       "if (notebookContainer) {{\n",
       "    x.observe(notebookContainer, {childList: true});\n",
       "}}\n",
       "\n",
       "// Listen for the clearing of the current output cell\n",
       "var outputEl = gd.closest('.output');\n",
       "if (outputEl) {{\n",
       "    x.observe(outputEl, {childList: true});\n",
       "}}\n",
       "\n",
       "                        })                };                });            </script>        </div>"
      ]
     },
     "metadata": {},
     "output_type": "display_data"
    }
   ],
   "source": [
    "fig_p = px.area(netflix_df, x='Country', y='Cost Per Month - Premium ($)', color = \"Cost Per Month - Premium ($)\")\n",
    "fig_p.show()"
   ]
  },
  {
   "cell_type": "code",
   "execution_count": 11,
   "id": "b644f25f",
   "metadata": {
    "execution": {
     "iopub.execute_input": "2023-04-16T03:58:10.626596Z",
     "iopub.status.busy": "2023-04-16T03:58:10.626012Z",
     "iopub.status.idle": "2023-04-16T03:58:11.222329Z",
     "shell.execute_reply": "2023-04-16T03:58:11.222805Z",
     "shell.execute_reply.started": "2022-05-05T20:02:18.197798Z"
    },
    "papermill": {
     "duration": 0.63255,
     "end_time": "2023-04-16T03:58:11.222963",
     "exception": false,
     "start_time": "2023-04-16T03:58:10.590413",
     "status": "completed"
    },
    "tags": []
   },
   "outputs": [
    {
     "data": {
      "text/plain": [
       "<matplotlib.legend.Legend at 0x7c0ba6a50750>"
      ]
     },
     "execution_count": 11,
     "metadata": {},
     "output_type": "execute_result"
    },
    {
     "data": {
      "image/png": "[encoded data removed]",
      "text/plain": [
       "<Figure size 1296x576 with 1 Axes>"
      ]
     },
     "metadata": {
      "needs_background": "light"
     },
     "output_type": "display_data"
    }
   ],
   "source": [
    "# Now we want to see if there is a co-relationship between 'Total Library Size' and 'Cost Per Month'\n",
    "plt.figure(figsize=(18,8))\n",
    "sns.regplot(x=netflix_df['Total Library Size'], y=netflix_df[\"Cost Per Month - Basic ($)\"], label = \"Basic\")\n",
    "sns.regplot(x=netflix_df['Total Library Size'], y=netflix_df[\"Cost Per Month - Standard ($)\"], label = \"Standard\")\n",
    "sns.regplot(x=netflix_df['Total Library Size'], y=netflix_df[\"Cost Per Month - Premium ($)\"], label = \"Premium\")\n",
    "plt.title(\"Corelation between Costs Per Month and Total Library Size\")\n",
    "plt.xlabel(\"Total Library Size\")\n",
    "plt.ylabel(\"Cost Per Month ($)\")\n",
    "plt.legend()"
   ]
  },
  {
   "cell_type": "markdown",
   "id": "cacad0fa",
   "metadata": {
    "papermill": {
     "duration": 0.029384,
     "end_time": "2023-04-16T03:58:11.281640",
     "exception": false,
     "start_time": "2023-04-16T03:58:11.252256",
     "status": "completed"
    },
    "tags": []
   },
   "source": [
    "From the above chart and its regression line, we cannot see a strong co-relation between the price and the total library size. Thus, it does not mean that a higher price would have a larger library size."
   ]
  },
  {
   "cell_type": "markdown",
   "id": "4968d1a9",
   "metadata": {
    "papermill": {
     "duration": 0.028844,
     "end_time": "2023-04-16T03:58:11.340168",
     "exception": false,
     "start_time": "2023-04-16T03:58:11.311324",
     "status": "completed"
    },
    "tags": []
   },
   "source": [
    "Next, we want to explore the data from multiple questions."
   ]
  },
  {
   "cell_type": "markdown",
   "id": "549b165f",
   "metadata": {
    "papermill": {
     "duration": 0.029173,
     "end_time": "2023-04-16T03:58:11.398618",
     "exception": false,
     "start_time": "2023-04-16T03:58:11.369445",
     "status": "completed"
    },
    "tags": []
   },
   "source": [
    "1. Which countries have the most expensive or cheapest costs?"
   ]
  },
  {
   "cell_type": "code",
   "execution_count": 12,
   "id": "ff8e32ac",
   "metadata": {
    "execution": {
     "iopub.execute_input": "2023-04-16T03:58:11.462374Z",
     "iopub.status.busy": "2023-04-16T03:58:11.461850Z",
     "iopub.status.idle": "2023-04-16T03:58:11.475853Z",
     "shell.execute_reply": "2023-04-16T03:58:11.476283Z",
     "shell.execute_reply.started": "2022-05-05T20:02:18.933859Z"
    },
    "papermill": {
     "duration": 0.046521,
     "end_time": "2023-04-16T03:58:11.476430",
     "exception": false,
     "start_time": "2023-04-16T03:58:11.429909",
     "status": "completed"
    },
    "tags": []
   },
   "outputs": [
    {
     "data": {
      "text/html": [
       "<div>\n",
       "<style scoped>\n",
       "    .dataframe tbody tr th:only-of-type {\n",
       "        vertical-align: middle;\n",
       "    }\n",
       "\n",
       "    .dataframe tbody tr th {\n",
       "        vertical-align: top;\n",
       "    }\n",
       "\n",
       "    .dataframe thead th {\n",
       "        text-align: right;\n",
       "    }\n",
       "</style>\n",
       "<table border=\"1\" class=\"dataframe\">\n",
       "  <thead>\n",
       "    <tr style=\"text-align: right;\">\n",
       "      <th></th>\n",
       "      <th>Country_code</th>\n",
       "      <th>Country</th>\n",
       "      <th>Total Library Size</th>\n",
       "      <th>No. of TV Shows</th>\n",
       "      <th>No. of Movies</th>\n",
       "      <th>Cost Per Month - Basic ($)</th>\n",
       "      <th>Cost Per Month - Standard ($)</th>\n",
       "      <th>Cost Per Month - Premium ($)</th>\n",
       "    </tr>\n",
       "  </thead>\n",
       "  <tbody>\n",
       "    <tr>\n",
       "      <th>33</th>\n",
       "      <td>li</td>\n",
       "      <td>Liechtenstein</td>\n",
       "      <td>3048</td>\n",
       "      <td>1712</td>\n",
       "      <td>1336</td>\n",
       "      <td>12.88</td>\n",
       "      <td>20.46</td>\n",
       "      <td>26.96</td>\n",
       "    </tr>\n",
       "    <tr>\n",
       "      <th>56</th>\n",
       "      <td>ch</td>\n",
       "      <td>Switzerland</td>\n",
       "      <td>5506</td>\n",
       "      <td>3654</td>\n",
       "      <td>1852</td>\n",
       "      <td>12.88</td>\n",
       "      <td>20.46</td>\n",
       "      <td>26.96</td>\n",
       "    </tr>\n",
       "    <tr>\n",
       "      <th>13</th>\n",
       "      <td>dk</td>\n",
       "      <td>Denmark</td>\n",
       "      <td>4558</td>\n",
       "      <td>2978</td>\n",
       "      <td>1580</td>\n",
       "      <td>12.00</td>\n",
       "      <td>15.04</td>\n",
       "      <td>19.60</td>\n",
       "    </tr>\n",
       "    <tr>\n",
       "      <th>55</th>\n",
       "      <td>se</td>\n",
       "      <td>Sweden</td>\n",
       "      <td>4361</td>\n",
       "      <td>2973</td>\n",
       "      <td>1388</td>\n",
       "      <td>10.90</td>\n",
       "      <td>14.20</td>\n",
       "      <td>19.70</td>\n",
       "    </tr>\n",
       "    <tr>\n",
       "      <th>29</th>\n",
       "      <td>il</td>\n",
       "      <td>Israel</td>\n",
       "      <td>5713</td>\n",
       "      <td>3650</td>\n",
       "      <td>2063</td>\n",
       "      <td>10.56</td>\n",
       "      <td>15.05</td>\n",
       "      <td>19.54</td>\n",
       "    </tr>\n",
       "    <tr>\n",
       "      <th>...</th>\n",
       "      <td>...</td>\n",
       "      <td>...</td>\n",
       "      <td>...</td>\n",
       "      <td>...</td>\n",
       "      <td>...</td>\n",
       "      <td>...</td>\n",
       "      <td>...</td>\n",
       "      <td>...</td>\n",
       "    </tr>\n",
       "    <tr>\n",
       "      <th>5</th>\n",
       "      <td>br</td>\n",
       "      <td>Brazil</td>\n",
       "      <td>4972</td>\n",
       "      <td>3162</td>\n",
       "      <td>1810</td>\n",
       "      <td>4.61</td>\n",
       "      <td>7.11</td>\n",
       "      <td>9.96</td>\n",
       "    </tr>\n",
       "    <tr>\n",
       "      <th>9</th>\n",
       "      <td>co</td>\n",
       "      <td>Colombia</td>\n",
       "      <td>4991</td>\n",
       "      <td>3156</td>\n",
       "      <td>1835</td>\n",
       "      <td>4.31</td>\n",
       "      <td>6.86</td>\n",
       "      <td>9.93</td>\n",
       "    </tr>\n",
       "    <tr>\n",
       "      <th>0</th>\n",
       "      <td>ar</td>\n",
       "      <td>Argentina</td>\n",
       "      <td>4760</td>\n",
       "      <td>3154</td>\n",
       "      <td>1606</td>\n",
       "      <td>3.74</td>\n",
       "      <td>6.30</td>\n",
       "      <td>9.26</td>\n",
       "    </tr>\n",
       "    <tr>\n",
       "      <th>26</th>\n",
       "      <td>in</td>\n",
       "      <td>India</td>\n",
       "      <td>5843</td>\n",
       "      <td>3718</td>\n",
       "      <td>2125</td>\n",
       "      <td>2.64</td>\n",
       "      <td>6.61</td>\n",
       "      <td>8.60</td>\n",
       "    </tr>\n",
       "    <tr>\n",
       "      <th>59</th>\n",
       "      <td>tr</td>\n",
       "      <td>Turkey</td>\n",
       "      <td>4639</td>\n",
       "      <td>2930</td>\n",
       "      <td>1709</td>\n",
       "      <td>1.97</td>\n",
       "      <td>3.00</td>\n",
       "      <td>4.02</td>\n",
       "    </tr>\n",
       "  </tbody>\n",
       "</table>\n",
       "<p>65 rows × 8 columns</p>\n",
       "</div>"
      ],
      "text/plain": [
       "   Country_code        Country  Total Library Size  No. of TV Shows  \\\n",
       "33           li  Liechtenstein                3048             1712   \n",
       "56           ch    Switzerland                5506             3654   \n",
       "13           dk        Denmark                4558             2978   \n",
       "55           se         Sweden                4361             2973   \n",
       "29           il         Israel                5713             3650   \n",
       "..          ...            ...                 ...              ...   \n",
       "5            br         Brazil                4972             3162   \n",
       "9            co       Colombia                4991             3156   \n",
       "0            ar      Argentina                4760             3154   \n",
       "26           in          India                5843             3718   \n",
       "59           tr         Turkey                4639             2930   \n",
       "\n",
       "    No. of Movies  Cost Per Month - Basic ($)  Cost Per Month - Standard ($)  \\\n",
       "33           1336                       12.88                          20.46   \n",
       "56           1852                       12.88                          20.46   \n",
       "13           1580                       12.00                          15.04   \n",
       "55           1388                       10.90                          14.20   \n",
       "29           2063                       10.56                          15.05   \n",
       "..            ...                         ...                            ...   \n",
       "5            1810                        4.61                           7.11   \n",
       "9            1835                        4.31                           6.86   \n",
       "0            1606                        3.74                           6.30   \n",
       "26           2125                        2.64                           6.61   \n",
       "59           1709                        1.97                           3.00   \n",
       "\n",
       "    Cost Per Month - Premium ($)  \n",
       "33                         26.96  \n",
       "56                         26.96  \n",
       "13                         19.60  \n",
       "55                         19.70  \n",
       "29                         19.54  \n",
       "..                           ...  \n",
       "5                           9.96  \n",
       "9                           9.93  \n",
       "0                           9.26  \n",
       "26                          8.60  \n",
       "59                          4.02  \n",
       "\n",
       "[65 rows x 8 columns]"
      ]
     },
     "execution_count": 12,
     "metadata": {},
     "output_type": "execute_result"
    }
   ],
   "source": [
    "netflix_df.sort_values(by = \"Cost Per Month - Basic ($)\", ascending=False)"
   ]
  },
  {
   "cell_type": "code",
   "execution_count": 13,
   "id": "23021ff0",
   "metadata": {
    "execution": {
     "iopub.execute_input": "2023-04-16T03:58:11.538100Z",
     "iopub.status.busy": "2023-04-16T03:58:11.537574Z",
     "iopub.status.idle": "2023-04-16T03:58:11.551655Z",
     "shell.execute_reply": "2023-04-16T03:58:11.551203Z",
     "shell.execute_reply.started": "2022-05-05T20:02:18.956994Z"
    },
    "papermill": {
     "duration": 0.045594,
     "end_time": "2023-04-16T03:58:11.551785",
     "exception": false,
     "start_time": "2023-04-16T03:58:11.506191",
     "status": "completed"
    },
    "tags": []
   },
   "outputs": [
    {
     "data": {
      "text/html": [
       "<div>\n",
       "<style scoped>\n",
       "    .dataframe tbody tr th:only-of-type {\n",
       "        vertical-align: middle;\n",
       "    }\n",
       "\n",
       "    .dataframe tbody tr th {\n",
       "        vertical-align: top;\n",
       "    }\n",
       "\n",
       "    .dataframe thead th {\n",
       "        text-align: right;\n",
       "    }\n",
       "</style>\n",
       "<table border=\"1\" class=\"dataframe\">\n",
       "  <thead>\n",
       "    <tr style=\"text-align: right;\">\n",
       "      <th></th>\n",
       "      <th>Country_code</th>\n",
       "      <th>Country</th>\n",
       "      <th>Total Library Size</th>\n",
       "      <th>No. of TV Shows</th>\n",
       "      <th>No. of Movies</th>\n",
       "      <th>Cost Per Month - Basic ($)</th>\n",
       "      <th>Cost Per Month - Standard ($)</th>\n",
       "      <th>Cost Per Month - Premium ($)</th>\n",
       "    </tr>\n",
       "  </thead>\n",
       "  <tbody>\n",
       "    <tr>\n",
       "      <th>56</th>\n",
       "      <td>ch</td>\n",
       "      <td>Switzerland</td>\n",
       "      <td>5506</td>\n",
       "      <td>3654</td>\n",
       "      <td>1852</td>\n",
       "      <td>12.88</td>\n",
       "      <td>20.46</td>\n",
       "      <td>26.96</td>\n",
       "    </tr>\n",
       "    <tr>\n",
       "      <th>33</th>\n",
       "      <td>li</td>\n",
       "      <td>Liechtenstein</td>\n",
       "      <td>3048</td>\n",
       "      <td>1712</td>\n",
       "      <td>1336</td>\n",
       "      <td>12.88</td>\n",
       "      <td>20.46</td>\n",
       "      <td>26.96</td>\n",
       "    </tr>\n",
       "    <tr>\n",
       "      <th>3</th>\n",
       "      <td>be</td>\n",
       "      <td>Belgium</td>\n",
       "      <td>4990</td>\n",
       "      <td>3374</td>\n",
       "      <td>1616</td>\n",
       "      <td>10.16</td>\n",
       "      <td>15.24</td>\n",
       "      <td>20.32</td>\n",
       "    </tr>\n",
       "    <tr>\n",
       "      <th>17</th>\n",
       "      <td>fr</td>\n",
       "      <td>France</td>\n",
       "      <td>5445</td>\n",
       "      <td>3604</td>\n",
       "      <td>1841</td>\n",
       "      <td>10.16</td>\n",
       "      <td>15.24</td>\n",
       "      <td>20.32</td>\n",
       "    </tr>\n",
       "    <tr>\n",
       "      <th>29</th>\n",
       "      <td>il</td>\n",
       "      <td>Israel</td>\n",
       "      <td>5713</td>\n",
       "      <td>3650</td>\n",
       "      <td>2063</td>\n",
       "      <td>10.56</td>\n",
       "      <td>15.05</td>\n",
       "      <td>19.54</td>\n",
       "    </tr>\n",
       "    <tr>\n",
       "      <th>...</th>\n",
       "      <td>...</td>\n",
       "      <td>...</td>\n",
       "      <td>...</td>\n",
       "      <td>...</td>\n",
       "      <td>...</td>\n",
       "      <td>...</td>\n",
       "      <td>...</td>\n",
       "      <td>...</td>\n",
       "    </tr>\n",
       "    <tr>\n",
       "      <th>5</th>\n",
       "      <td>br</td>\n",
       "      <td>Brazil</td>\n",
       "      <td>4972</td>\n",
       "      <td>3162</td>\n",
       "      <td>1810</td>\n",
       "      <td>4.61</td>\n",
       "      <td>7.11</td>\n",
       "      <td>9.96</td>\n",
       "    </tr>\n",
       "    <tr>\n",
       "      <th>9</th>\n",
       "      <td>co</td>\n",
       "      <td>Colombia</td>\n",
       "      <td>4991</td>\n",
       "      <td>3156</td>\n",
       "      <td>1835</td>\n",
       "      <td>4.31</td>\n",
       "      <td>6.86</td>\n",
       "      <td>9.93</td>\n",
       "    </tr>\n",
       "    <tr>\n",
       "      <th>26</th>\n",
       "      <td>in</td>\n",
       "      <td>India</td>\n",
       "      <td>5843</td>\n",
       "      <td>3718</td>\n",
       "      <td>2125</td>\n",
       "      <td>2.64</td>\n",
       "      <td>6.61</td>\n",
       "      <td>8.60</td>\n",
       "    </tr>\n",
       "    <tr>\n",
       "      <th>0</th>\n",
       "      <td>ar</td>\n",
       "      <td>Argentina</td>\n",
       "      <td>4760</td>\n",
       "      <td>3154</td>\n",
       "      <td>1606</td>\n",
       "      <td>3.74</td>\n",
       "      <td>6.30</td>\n",
       "      <td>9.26</td>\n",
       "    </tr>\n",
       "    <tr>\n",
       "      <th>59</th>\n",
       "      <td>tr</td>\n",
       "      <td>Turkey</td>\n",
       "      <td>4639</td>\n",
       "      <td>2930</td>\n",
       "      <td>1709</td>\n",
       "      <td>1.97</td>\n",
       "      <td>3.00</td>\n",
       "      <td>4.02</td>\n",
       "    </tr>\n",
       "  </tbody>\n",
       "</table>\n",
       "<p>65 rows × 8 columns</p>\n",
       "</div>"
      ],
      "text/plain": [
       "   Country_code        Country  Total Library Size  No. of TV Shows  \\\n",
       "56           ch    Switzerland                5506             3654   \n",
       "33           li  Liechtenstein                3048             1712   \n",
       "3            be        Belgium                4990             3374   \n",
       "17           fr         France                5445             3604   \n",
       "29           il         Israel                5713             3650   \n",
       "..          ...            ...                 ...              ...   \n",
       "5            br         Brazil                4972             3162   \n",
       "9            co       Colombia                4991             3156   \n",
       "26           in          India                5843             3718   \n",
       "0            ar      Argentina                4760             3154   \n",
       "59           tr         Turkey                4639             2930   \n",
       "\n",
       "    No. of Movies  Cost Per Month - Basic ($)  Cost Per Month - Standard ($)  \\\n",
       "56           1852                       12.88                          20.46   \n",
       "33           1336                       12.88                          20.46   \n",
       "3            1616                       10.16                          15.24   \n",
       "17           1841                       10.16                          15.24   \n",
       "29           2063                       10.56                          15.05   \n",
       "..            ...                         ...                            ...   \n",
       "5            1810                        4.61                           7.11   \n",
       "9            1835                        4.31                           6.86   \n",
       "26           2125                        2.64                           6.61   \n",
       "0            1606                        3.74                           6.30   \n",
       "59           1709                        1.97                           3.00   \n",
       "\n",
       "    Cost Per Month - Premium ($)  \n",
       "56                         26.96  \n",
       "33                         26.96  \n",
       "3                          20.32  \n",
       "17                         20.32  \n",
       "29                         19.54  \n",
       "..                           ...  \n",
       "5                           9.96  \n",
       "9                           9.93  \n",
       "26                          8.60  \n",
       "0                           9.26  \n",
       "59                          4.02  \n",
       "\n",
       "[65 rows x 8 columns]"
      ]
     },
     "execution_count": 13,
     "metadata": {},
     "output_type": "execute_result"
    }
   ],
   "source": [
    "netflix_df.sort_values(by = \"Cost Per Month - Standard ($)\", ascending=False)"
   ]
  },
  {
   "cell_type": "code",
   "execution_count": 14,
   "id": "dbbbe373",
   "metadata": {
    "execution": {
     "iopub.execute_input": "2023-04-16T03:58:11.626894Z",
     "iopub.status.busy": "2023-04-16T03:58:11.626085Z",
     "iopub.status.idle": "2023-04-16T03:58:11.629020Z",
     "shell.execute_reply": "2023-04-16T03:58:11.629545Z",
     "shell.execute_reply.started": "2022-05-05T20:02:18.980867Z"
    },
    "papermill": {
     "duration": 0.047492,
     "end_time": "2023-04-16T03:58:11.629675",
     "exception": false,
     "start_time": "2023-04-16T03:58:11.582183",
     "status": "completed"
    },
    "tags": []
   },
   "outputs": [
    {
     "data": {
      "text/html": [
       "<div>\n",
       "<style scoped>\n",
       "    .dataframe tbody tr th:only-of-type {\n",
       "        vertical-align: middle;\n",
       "    }\n",
       "\n",
       "    .dataframe tbody tr th {\n",
       "        vertical-align: top;\n",
       "    }\n",
       "\n",
       "    .dataframe thead th {\n",
       "        text-align: right;\n",
       "    }\n",
       "</style>\n",
       "<table border=\"1\" class=\"dataframe\">\n",
       "  <thead>\n",
       "    <tr style=\"text-align: right;\">\n",
       "      <th></th>\n",
       "      <th>Country_code</th>\n",
       "      <th>Country</th>\n",
       "      <th>Total Library Size</th>\n",
       "      <th>No. of TV Shows</th>\n",
       "      <th>No. of Movies</th>\n",
       "      <th>Cost Per Month - Basic ($)</th>\n",
       "      <th>Cost Per Month - Standard ($)</th>\n",
       "      <th>Cost Per Month - Premium ($)</th>\n",
       "    </tr>\n",
       "  </thead>\n",
       "  <tbody>\n",
       "    <tr>\n",
       "      <th>56</th>\n",
       "      <td>ch</td>\n",
       "      <td>Switzerland</td>\n",
       "      <td>5506</td>\n",
       "      <td>3654</td>\n",
       "      <td>1852</td>\n",
       "      <td>12.88</td>\n",
       "      <td>20.46</td>\n",
       "      <td>26.96</td>\n",
       "    </tr>\n",
       "    <tr>\n",
       "      <th>33</th>\n",
       "      <td>li</td>\n",
       "      <td>Liechtenstein</td>\n",
       "      <td>3048</td>\n",
       "      <td>1712</td>\n",
       "      <td>1336</td>\n",
       "      <td>12.88</td>\n",
       "      <td>20.46</td>\n",
       "      <td>26.96</td>\n",
       "    </tr>\n",
       "    <tr>\n",
       "      <th>18</th>\n",
       "      <td>de</td>\n",
       "      <td>Germany</td>\n",
       "      <td>5668</td>\n",
       "      <td>3814</td>\n",
       "      <td>1854</td>\n",
       "      <td>9.03</td>\n",
       "      <td>14.67</td>\n",
       "      <td>20.32</td>\n",
       "    </tr>\n",
       "    <tr>\n",
       "      <th>30</th>\n",
       "      <td>it</td>\n",
       "      <td>Italy</td>\n",
       "      <td>5183</td>\n",
       "      <td>3545</td>\n",
       "      <td>1638</td>\n",
       "      <td>9.03</td>\n",
       "      <td>14.67</td>\n",
       "      <td>20.32</td>\n",
       "    </tr>\n",
       "    <tr>\n",
       "      <th>28</th>\n",
       "      <td>ie</td>\n",
       "      <td>Ireland</td>\n",
       "      <td>6486</td>\n",
       "      <td>4515</td>\n",
       "      <td>1971</td>\n",
       "      <td>9.03</td>\n",
       "      <td>14.67</td>\n",
       "      <td>20.32</td>\n",
       "    </tr>\n",
       "    <tr>\n",
       "      <th>...</th>\n",
       "      <td>...</td>\n",
       "      <td>...</td>\n",
       "      <td>...</td>\n",
       "      <td>...</td>\n",
       "      <td>...</td>\n",
       "      <td>...</td>\n",
       "      <td>...</td>\n",
       "      <td>...</td>\n",
       "    </tr>\n",
       "    <tr>\n",
       "      <th>5</th>\n",
       "      <td>br</td>\n",
       "      <td>Brazil</td>\n",
       "      <td>4972</td>\n",
       "      <td>3162</td>\n",
       "      <td>1810</td>\n",
       "      <td>4.61</td>\n",
       "      <td>7.11</td>\n",
       "      <td>9.96</td>\n",
       "    </tr>\n",
       "    <tr>\n",
       "      <th>9</th>\n",
       "      <td>co</td>\n",
       "      <td>Colombia</td>\n",
       "      <td>4991</td>\n",
       "      <td>3156</td>\n",
       "      <td>1835</td>\n",
       "      <td>4.31</td>\n",
       "      <td>6.86</td>\n",
       "      <td>9.93</td>\n",
       "    </tr>\n",
       "    <tr>\n",
       "      <th>0</th>\n",
       "      <td>ar</td>\n",
       "      <td>Argentina</td>\n",
       "      <td>4760</td>\n",
       "      <td>3154</td>\n",
       "      <td>1606</td>\n",
       "      <td>3.74</td>\n",
       "      <td>6.30</td>\n",
       "      <td>9.26</td>\n",
       "    </tr>\n",
       "    <tr>\n",
       "      <th>26</th>\n",
       "      <td>in</td>\n",
       "      <td>India</td>\n",
       "      <td>5843</td>\n",
       "      <td>3718</td>\n",
       "      <td>2125</td>\n",
       "      <td>2.64</td>\n",
       "      <td>6.61</td>\n",
       "      <td>8.60</td>\n",
       "    </tr>\n",
       "    <tr>\n",
       "      <th>59</th>\n",
       "      <td>tr</td>\n",
       "      <td>Turkey</td>\n",
       "      <td>4639</td>\n",
       "      <td>2930</td>\n",
       "      <td>1709</td>\n",
       "      <td>1.97</td>\n",
       "      <td>3.00</td>\n",
       "      <td>4.02</td>\n",
       "    </tr>\n",
       "  </tbody>\n",
       "</table>\n",
       "<p>65 rows × 8 columns</p>\n",
       "</div>"
      ],
      "text/plain": [
       "   Country_code        Country  Total Library Size  No. of TV Shows  \\\n",
       "56           ch    Switzerland                5506             3654   \n",
       "33           li  Liechtenstein                3048             1712   \n",
       "18           de        Germany                5668             3814   \n",
       "30           it          Italy                5183             3545   \n",
       "28           ie        Ireland                6486             4515   \n",
       "..          ...            ...                 ...              ...   \n",
       "5            br         Brazil                4972             3162   \n",
       "9            co       Colombia                4991             3156   \n",
       "0            ar      Argentina                4760             3154   \n",
       "26           in          India                5843             3718   \n",
       "59           tr         Turkey                4639             2930   \n",
       "\n",
       "    No. of Movies  Cost Per Month - Basic ($)  Cost Per Month - Standard ($)  \\\n",
       "56           1852                       12.88                          20.46   \n",
       "33           1336                       12.88                          20.46   \n",
       "18           1854                        9.03                          14.67   \n",
       "30           1638                        9.03                          14.67   \n",
       "28           1971                        9.03                          14.67   \n",
       "..            ...                         ...                            ...   \n",
       "5            1810                        4.61                           7.11   \n",
       "9            1835                        4.31                           6.86   \n",
       "0            1606                        3.74                           6.30   \n",
       "26           2125                        2.64                           6.61   \n",
       "59           1709                        1.97                           3.00   \n",
       "\n",
       "    Cost Per Month - Premium ($)  \n",
       "56                         26.96  \n",
       "33                         26.96  \n",
       "18                         20.32  \n",
       "30                         20.32  \n",
       "28                         20.32  \n",
       "..                           ...  \n",
       "5                           9.96  \n",
       "9                           9.93  \n",
       "0                           9.26  \n",
       "26                          8.60  \n",
       "59                          4.02  \n",
       "\n",
       "[65 rows x 8 columns]"
      ]
     },
     "execution_count": 14,
     "metadata": {},
     "output_type": "execute_result"
    }
   ],
   "source": [
    "netflix_df.sort_values(by = \"Cost Per Month - Premium ($)\", ascending=False)"
   ]
  },
  {
   "cell_type": "markdown",
   "id": "07491fff",
   "metadata": {
    "papermill": {
     "duration": 0.030108,
     "end_time": "2023-04-16T03:58:11.690406",
     "exception": false,
     "start_time": "2023-04-16T03:58:11.660298",
     "status": "completed"
    },
    "tags": []
   },
   "source": [
    "We can see that among costs for Basic, Standard and Premium, both Switzerland and Liechtenstein have the most expensive subscription fees, but the total library size of Switzerland is much higher than that of Liechtenstein, more than 2000. While Turkey has the lowest subscription fees, but larger library size than that of Liechtenstein."
   ]
  },
  {
   "cell_type": "markdown",
   "id": "01303e48",
   "metadata": {
    "papermill": {
     "duration": 0.030145,
     "end_time": "2023-04-16T03:58:11.751116",
     "exception": false,
     "start_time": "2023-04-16T03:58:11.720971",
     "status": "completed"
    },
    "tags": []
   },
   "source": [
    "2. Is there any variables that affect the subscription fees?\n",
    "In the visualization part, we have seen that there is no correlation between the total librazy size and the fees. But let's confirm this one more time."
   ]
  },
  {
   "cell_type": "code",
   "execution_count": 15,
   "id": "13fdd438",
   "metadata": {
    "execution": {
     "iopub.execute_input": "2023-04-16T03:58:11.817542Z",
     "iopub.status.busy": "2023-04-16T03:58:11.816765Z",
     "iopub.status.idle": "2023-04-16T03:58:12.154625Z",
     "shell.execute_reply": "2023-04-16T03:58:12.155122Z",
     "shell.execute_reply.started": "2022-05-05T20:02:19.007593Z"
    },
    "papermill": {
     "duration": 0.373649,
     "end_time": "2023-04-16T03:58:12.155304",
     "exception": false,
     "start_time": "2023-04-16T03:58:11.781655",
     "status": "completed"
    },
    "tags": []
   },
   "outputs": [
    {
     "data": {
      "text/html": [
       "<style type=\"text/css\">\n",
       "#T_c1bcd_row0_col0, #T_c1bcd_row1_col1, #T_c1bcd_row2_col2, #T_c1bcd_row3_col3 {\n",
       "  background-color: #08306b;\n",
       "  color: #f1f1f1;\n",
       "}\n",
       "#T_c1bcd_row0_col1 {\n",
       "  background-color: #e3eef9;\n",
       "  color: #000000;\n",
       "}\n",
       "#T_c1bcd_row0_col2 {\n",
       "  background-color: #083776;\n",
       "  color: #f1f1f1;\n",
       "}\n",
       "#T_c1bcd_row0_col3 {\n",
       "  background-color: #08519c;\n",
       "  color: #f1f1f1;\n",
       "}\n",
       "#T_c1bcd_row1_col0, #T_c1bcd_row1_col2, #T_c1bcd_row1_col3, #T_c1bcd_row3_col1 {\n",
       "  background-color: #f7fbff;\n",
       "  color: #000000;\n",
       "}\n",
       "#T_c1bcd_row2_col0 {\n",
       "  background-color: #083674;\n",
       "  color: #f1f1f1;\n",
       "}\n",
       "#T_c1bcd_row2_col1 {\n",
       "  background-color: #d9e8f5;\n",
       "  color: #000000;\n",
       "}\n",
       "#T_c1bcd_row2_col3 {\n",
       "  background-color: #2272b6;\n",
       "  color: #f1f1f1;\n",
       "}\n",
       "#T_c1bcd_row3_col0 {\n",
       "  background-color: #0b559f;\n",
       "  color: #f1f1f1;\n",
       "}\n",
       "#T_c1bcd_row3_col2 {\n",
       "  background-color: #2e7ebc;\n",
       "  color: #f1f1f1;\n",
       "}\n",
       "</style>\n",
       "<table id=\"T_c1bcd_\">\n",
       "  <thead>\n",
       "    <tr>\n",
       "      <th class=\"blank level0\" >&nbsp;</th>\n",
       "      <th class=\"col_heading level0 col0\" >Total Library Size</th>\n",
       "      <th class=\"col_heading level0 col1\" >Cost Per Month - Basic ($)</th>\n",
       "      <th class=\"col_heading level0 col2\" >No. of TV Shows</th>\n",
       "      <th class=\"col_heading level0 col3\" >No. of Movies</th>\n",
       "    </tr>\n",
       "  </thead>\n",
       "  <tbody>\n",
       "    <tr>\n",
       "      <th id=\"T_c1bcd_level0_row0\" class=\"row_heading level0 row0\" >Total Library Size</th>\n",
       "      <td id=\"T_c1bcd_row0_col0\" class=\"data row0 col0\" >1.000000</td>\n",
       "      <td id=\"T_c1bcd_row0_col1\" class=\"data row0 col1\" >-0.062877</td>\n",
       "      <td id=\"T_c1bcd_row0_col2\" class=\"data row0 col2\" >0.971146</td>\n",
       "      <td id=\"T_c1bcd_row0_col3\" class=\"data row0 col3\" >0.849957</td>\n",
       "    </tr>\n",
       "    <tr>\n",
       "      <th id=\"T_c1bcd_level0_row1\" class=\"row_heading level0 row1\" >Cost Per Month - Basic ($)</th>\n",
       "      <td id=\"T_c1bcd_row1_col0\" class=\"data row1 col0\" >-0.062877</td>\n",
       "      <td id=\"T_c1bcd_row1_col1\" class=\"data row1 col1\" >1.000000</td>\n",
       "      <td id=\"T_c1bcd_row1_col2\" class=\"data row1 col2\" >-0.003814</td>\n",
       "      <td id=\"T_c1bcd_row1_col3\" class=\"data row1 col3\" >-0.179913</td>\n",
       "    </tr>\n",
       "    <tr>\n",
       "      <th id=\"T_c1bcd_level0_row2\" class=\"row_heading level0 row2\" >No. of TV Shows</th>\n",
       "      <td id=\"T_c1bcd_row2_col0\" class=\"data row2 col0\" >0.971146</td>\n",
       "      <td id=\"T_c1bcd_row2_col1\" class=\"data row2 col1\" >-0.003814</td>\n",
       "      <td id=\"T_c1bcd_row2_col2\" class=\"data row2 col2\" >1.000000</td>\n",
       "      <td id=\"T_c1bcd_row2_col3\" class=\"data row2 col3\" >0.699786</td>\n",
       "    </tr>\n",
       "    <tr>\n",
       "      <th id=\"T_c1bcd_level0_row3\" class=\"row_heading level0 row3\" >No. of Movies</th>\n",
       "      <td id=\"T_c1bcd_row3_col0\" class=\"data row3 col0\" >0.849957</td>\n",
       "      <td id=\"T_c1bcd_row3_col1\" class=\"data row3 col1\" >-0.179913</td>\n",
       "      <td id=\"T_c1bcd_row3_col2\" class=\"data row3 col2\" >0.699786</td>\n",
       "      <td id=\"T_c1bcd_row3_col3\" class=\"data row3 col3\" >1.000000</td>\n",
       "    </tr>\n",
       "  </tbody>\n",
       "</table>\n"
      ],
      "text/plain": [
       "<pandas.io.formats.style.Styler at 0x7c0ba66de390>"
      ]
     },
     "execution_count": 15,
     "metadata": {},
     "output_type": "execute_result"
    },
    {
     "data": {
      "image/png": "[encoded data removed]",
      "text/plain": [
       "<Figure size 432x288 with 2 Axes>"
      ]
     },
     "metadata": {
      "needs_background": "light"
     },
     "output_type": "display_data"
    }
   ],
   "source": [
    "data = netflix_df[[\"Total Library Size\", \"Cost Per Month - Basic ($)\", \"No. of TV Shows\", \"No. of Movies\"]]\n",
    "corr = data.corr()\n",
    "sns.heatmap(corr, annot = True)\n",
    "corr.style.background_gradient(cmap = \"Blues\")"
   ]
  },
  {
   "cell_type": "code",
   "execution_count": 16,
   "id": "4d4186c5",
   "metadata": {
    "execution": {
     "iopub.execute_input": "2023-04-16T03:58:12.234157Z",
     "iopub.status.busy": "2023-04-16T03:58:12.233237Z",
     "iopub.status.idle": "2023-04-16T03:58:12.540975Z",
     "shell.execute_reply": "2023-04-16T03:58:12.541348Z",
     "shell.execute_reply.started": "2022-05-05T20:02:19.416953Z"
    },
    "papermill": {
     "duration": 0.347823,
     "end_time": "2023-04-16T03:58:12.541531",
     "exception": false,
     "start_time": "2023-04-16T03:58:12.193708",
     "status": "completed"
    },
    "tags": []
   },
   "outputs": [
    {
     "data": {
      "text/html": [
       "<style type=\"text/css\">\n",
       "#T_0e78f_row0_col0, #T_0e78f_row1_col1, #T_0e78f_row2_col2, #T_0e78f_row3_col3 {\n",
       "  background-color: #08306b;\n",
       "  color: #f1f1f1;\n",
       "}\n",
       "#T_0e78f_row0_col1 {\n",
       "  background-color: #e3eef9;\n",
       "  color: #000000;\n",
       "}\n",
       "#T_0e78f_row0_col2, #T_0e78f_row2_col0 {\n",
       "  background-color: #083776;\n",
       "  color: #f1f1f1;\n",
       "}\n",
       "#T_0e78f_row0_col3 {\n",
       "  background-color: #08519c;\n",
       "  color: #f1f1f1;\n",
       "}\n",
       "#T_0e78f_row1_col0, #T_0e78f_row1_col2, #T_0e78f_row1_col3, #T_0e78f_row3_col1 {\n",
       "  background-color: #f7fbff;\n",
       "  color: #000000;\n",
       "}\n",
       "#T_0e78f_row2_col1 {\n",
       "  background-color: #dae8f6;\n",
       "  color: #000000;\n",
       "}\n",
       "#T_0e78f_row2_col3 {\n",
       "  background-color: #2272b6;\n",
       "  color: #f1f1f1;\n",
       "}\n",
       "#T_0e78f_row3_col0 {\n",
       "  background-color: #0b559f;\n",
       "  color: #f1f1f1;\n",
       "}\n",
       "#T_0e78f_row3_col2 {\n",
       "  background-color: #2f7fbc;\n",
       "  color: #f1f1f1;\n",
       "}\n",
       "</style>\n",
       "<table id=\"T_0e78f_\">\n",
       "  <thead>\n",
       "    <tr>\n",
       "      <th class=\"blank level0\" >&nbsp;</th>\n",
       "      <th class=\"col_heading level0 col0\" >Total Library Size</th>\n",
       "      <th class=\"col_heading level0 col1\" >Cost Per Month - Standard ($)</th>\n",
       "      <th class=\"col_heading level0 col2\" >No. of TV Shows</th>\n",
       "      <th class=\"col_heading level0 col3\" >No. of Movies</th>\n",
       "    </tr>\n",
       "  </thead>\n",
       "  <tbody>\n",
       "    <tr>\n",
       "      <th id=\"T_0e78f_level0_row0\" class=\"row_heading level0 row0\" >Total Library Size</th>\n",
       "      <td id=\"T_0e78f_row0_col0\" class=\"data row0 col0\" >1.000000</td>\n",
       "      <td id=\"T_0e78f_row0_col1\" class=\"data row0 col1\" >-0.055200</td>\n",
       "      <td id=\"T_0e78f_row0_col2\" class=\"data row0 col2\" >0.971146</td>\n",
       "      <td id=\"T_0e78f_row0_col3\" class=\"data row0 col3\" >0.849957</td>\n",
       "    </tr>\n",
       "    <tr>\n",
       "      <th id=\"T_0e78f_level0_row1\" class=\"row_heading level0 row1\" >Cost Per Month - Standard ($)</th>\n",
       "      <td id=\"T_0e78f_row1_col0\" class=\"data row1 col0\" >-0.055200</td>\n",
       "      <td id=\"T_0e78f_row1_col1\" class=\"data row1 col1\" >1.000000</td>\n",
       "      <td id=\"T_0e78f_row1_col2\" class=\"data row1 col2\" >0.002285</td>\n",
       "      <td id=\"T_0e78f_row1_col3\" class=\"data row1 col3\" >-0.170391</td>\n",
       "    </tr>\n",
       "    <tr>\n",
       "      <th id=\"T_0e78f_level0_row2\" class=\"row_heading level0 row2\" >No. of TV Shows</th>\n",
       "      <td id=\"T_0e78f_row2_col0\" class=\"data row2 col0\" >0.971146</td>\n",
       "      <td id=\"T_0e78f_row2_col1\" class=\"data row2 col1\" >0.002285</td>\n",
       "      <td id=\"T_0e78f_row2_col2\" class=\"data row2 col2\" >1.000000</td>\n",
       "      <td id=\"T_0e78f_row2_col3\" class=\"data row2 col3\" >0.699786</td>\n",
       "    </tr>\n",
       "    <tr>\n",
       "      <th id=\"T_0e78f_level0_row3\" class=\"row_heading level0 row3\" >No. of Movies</th>\n",
       "      <td id=\"T_0e78f_row3_col0\" class=\"data row3 col0\" >0.849957</td>\n",
       "      <td id=\"T_0e78f_row3_col1\" class=\"data row3 col1\" >-0.170391</td>\n",
       "      <td id=\"T_0e78f_row3_col2\" class=\"data row3 col2\" >0.699786</td>\n",
       "      <td id=\"T_0e78f_row3_col3\" class=\"data row3 col3\" >1.000000</td>\n",
       "    </tr>\n",
       "  </tbody>\n",
       "</table>\n"
      ],
      "text/plain": [
       "<pandas.io.formats.style.Styler at 0x7c0ba68d0b50>"
      ]
     },
     "execution_count": 16,
     "metadata": {},
     "output_type": "execute_result"
    },
    {
     "data": {
      "image/png": "[encoded data removed]",
      "text/plain": [
       "<Figure size 432x288 with 2 Axes>"
      ]
     },
     "metadata": {
      "needs_background": "light"
     },
     "output_type": "display_data"
    }
   ],
   "source": [
    "data = netflix_df[[\"Total Library Size\", \"Cost Per Month - Standard ($)\", \"No. of TV Shows\", \"No. of Movies\"]]\n",
    "corr = data.corr()\n",
    "sns.heatmap(corr, annot = True)\n",
    "corr.style.background_gradient(cmap = \"Blues\")"
   ]
  },
  {
   "cell_type": "code",
   "execution_count": 17,
   "id": "1e5332ef",
   "metadata": {
    "execution": {
     "iopub.execute_input": "2023-04-16T03:58:12.613907Z",
     "iopub.status.busy": "2023-04-16T03:58:12.613109Z",
     "iopub.status.idle": "2023-04-16T03:58:12.920839Z",
     "shell.execute_reply": "2023-04-16T03:58:12.921353Z",
     "shell.execute_reply.started": "2022-05-05T20:02:19.764828Z"
    },
    "papermill": {
     "duration": 0.346266,
     "end_time": "2023-04-16T03:58:12.921528",
     "exception": false,
     "start_time": "2023-04-16T03:58:12.575262",
     "status": "completed"
    },
    "tags": []
   },
   "outputs": [
    {
     "data": {
      "text/html": [
       "<style type=\"text/css\">\n",
       "#T_f8c5e_row0_col0, #T_f8c5e_row1_col1, #T_f8c5e_row2_col2, #T_f8c5e_row3_col3 {\n",
       "  background-color: #08306b;\n",
       "  color: #f1f1f1;\n",
       "}\n",
       "#T_f8c5e_row0_col1 {\n",
       "  background-color: #e3eef9;\n",
       "  color: #000000;\n",
       "}\n",
       "#T_f8c5e_row0_col2 {\n",
       "  background-color: #083776;\n",
       "  color: #f1f1f1;\n",
       "}\n",
       "#T_f8c5e_row0_col3 {\n",
       "  background-color: #08519c;\n",
       "  color: #f1f1f1;\n",
       "}\n",
       "#T_f8c5e_row1_col0, #T_f8c5e_row1_col2, #T_f8c5e_row1_col3, #T_f8c5e_row3_col1 {\n",
       "  background-color: #f7fbff;\n",
       "  color: #000000;\n",
       "}\n",
       "#T_f8c5e_row2_col0 {\n",
       "  background-color: #083674;\n",
       "  color: #f1f1f1;\n",
       "}\n",
       "#T_f8c5e_row2_col1 {\n",
       "  background-color: #d9e8f5;\n",
       "  color: #000000;\n",
       "}\n",
       "#T_f8c5e_row2_col3 {\n",
       "  background-color: #2171b5;\n",
       "  color: #f1f1f1;\n",
       "}\n",
       "#T_f8c5e_row3_col0 {\n",
       "  background-color: #0a549e;\n",
       "  color: #f1f1f1;\n",
       "}\n",
       "#T_f8c5e_row3_col2 {\n",
       "  background-color: #2e7ebc;\n",
       "  color: #f1f1f1;\n",
       "}\n",
       "</style>\n",
       "<table id=\"T_f8c5e_\">\n",
       "  <thead>\n",
       "    <tr>\n",
       "      <th class=\"blank level0\" >&nbsp;</th>\n",
       "      <th class=\"col_heading level0 col0\" >Total Library Size</th>\n",
       "      <th class=\"col_heading level0 col1\" >Cost Per Month - Premium ($)</th>\n",
       "      <th class=\"col_heading level0 col2\" >No. of TV Shows</th>\n",
       "      <th class=\"col_heading level0 col3\" >No. of Movies</th>\n",
       "    </tr>\n",
       "  </thead>\n",
       "  <tbody>\n",
       "    <tr>\n",
       "      <th id=\"T_f8c5e_level0_row0\" class=\"row_heading level0 row0\" >Total Library Size</th>\n",
       "      <td id=\"T_f8c5e_row0_col0\" class=\"data row0 col0\" >1.000000</td>\n",
       "      <td id=\"T_f8c5e_row0_col1\" class=\"data row0 col1\" >-0.071521</td>\n",
       "      <td id=\"T_f8c5e_row0_col2\" class=\"data row0 col2\" >0.971146</td>\n",
       "      <td id=\"T_f8c5e_row0_col3\" class=\"data row0 col3\" >0.849957</td>\n",
       "    </tr>\n",
       "    <tr>\n",
       "      <th id=\"T_f8c5e_level0_row1\" class=\"row_heading level0 row1\" >Cost Per Month - Premium ($)</th>\n",
       "      <td id=\"T_f8c5e_row1_col0\" class=\"data row1 col0\" >-0.071521</td>\n",
       "      <td id=\"T_f8c5e_row1_col1\" class=\"data row1 col1\" >1.000000</td>\n",
       "      <td id=\"T_f8c5e_row1_col2\" class=\"data row1 col2\" >-0.011100</td>\n",
       "      <td id=\"T_f8c5e_row1_col3\" class=\"data row1 col3\" >-0.189711</td>\n",
       "    </tr>\n",
       "    <tr>\n",
       "      <th id=\"T_f8c5e_level0_row2\" class=\"row_heading level0 row2\" >No. of TV Shows</th>\n",
       "      <td id=\"T_f8c5e_row2_col0\" class=\"data row2 col0\" >0.971146</td>\n",
       "      <td id=\"T_f8c5e_row2_col1\" class=\"data row2 col1\" >-0.011100</td>\n",
       "      <td id=\"T_f8c5e_row2_col2\" class=\"data row2 col2\" >1.000000</td>\n",
       "      <td id=\"T_f8c5e_row2_col3\" class=\"data row2 col3\" >0.699786</td>\n",
       "    </tr>\n",
       "    <tr>\n",
       "      <th id=\"T_f8c5e_level0_row3\" class=\"row_heading level0 row3\" >No. of Movies</th>\n",
       "      <td id=\"T_f8c5e_row3_col0\" class=\"data row3 col0\" >0.849957</td>\n",
       "      <td id=\"T_f8c5e_row3_col1\" class=\"data row3 col1\" >-0.189711</td>\n",
       "      <td id=\"T_f8c5e_row3_col2\" class=\"data row3 col2\" >0.699786</td>\n",
       "      <td id=\"T_f8c5e_row3_col3\" class=\"data row3 col3\" >1.000000</td>\n",
       "    </tr>\n",
       "  </tbody>\n",
       "</table>\n"
      ],
      "text/plain": [
       "<pandas.io.formats.style.Styler at 0x7c0ba6822c50>"
      ]
     },
     "execution_count": 17,
     "metadata": {},
     "output_type": "execute_result"
    },
    {
     "data": {
      "image/png": "[encoded data removed]",
      "text/plain": [
       "<Figure size 432x288 with 2 Axes>"
      ]
     },
     "metadata": {
      "needs_background": "light"
     },
     "output_type": "display_data"
    }
   ],
   "source": [
    "data = netflix_df[[\"Total Library Size\", \"Cost Per Month - Premium ($)\", \"No. of TV Shows\", \"No. of Movies\"]]\n",
    "corr = data.corr()\n",
    "sns.heatmap(corr, annot = True)\n",
    "corr.style.background_gradient(cmap = \"Blues\")"
   ]
  },
  {
   "cell_type": "markdown",
   "id": "faa504a0",
   "metadata": {
    "papermill": {
     "duration": 0.034674,
     "end_time": "2023-04-16T03:58:12.991306",
     "exception": false,
     "start_time": "2023-04-16T03:58:12.956632",
     "status": "completed"
    },
    "tags": []
   },
   "source": [
    "We know that correlation is a statistical measure ranging from +1.0 to -1.0. And if it is 0, there is no corelation between the two variables. We now see that the corelations between the cost and the library size are approximately 0, so there is no obvious corelation between them."
   ]
  },
  {
   "cell_type": "markdown",
   "id": "bd80fbc0",
   "metadata": {
    "papermill": {
     "duration": 0.034868,
     "end_time": "2023-04-16T03:58:13.060885",
     "exception": false,
     "start_time": "2023-04-16T03:58:13.026017",
     "status": "completed"
    },
    "tags": []
   },
   "source": [
    "3. What is the distribution of this dataset?"
   ]
  },
  {
   "cell_type": "code",
   "execution_count": 18,
   "id": "63e35eb9",
   "metadata": {
    "execution": {
     "iopub.execute_input": "2023-04-16T03:58:13.134068Z",
     "iopub.status.busy": "2023-04-16T03:58:13.133209Z",
     "iopub.status.idle": "2023-04-16T03:58:13.368447Z",
     "shell.execute_reply": "2023-04-16T03:58:13.368839Z",
     "shell.execute_reply.started": "2022-05-05T20:02:20.113926Z"
    },
    "papermill": {
     "duration": 0.272976,
     "end_time": "2023-04-16T03:58:13.368998",
     "exception": false,
     "start_time": "2023-04-16T03:58:13.096022",
     "status": "completed"
    },
    "tags": []
   },
   "outputs": [
    {
     "name": "stderr",
     "output_type": "stream",
     "text": [
      "/opt/conda/lib/python3.7/site-packages/seaborn/distributions.py:2619: FutureWarning:\n",
      "\n",
      "`distplot` is a deprecated function and will be removed in a future version. Please adapt your code to use either `displot` (a figure-level function with similar flexibility) or `histplot` (an axes-level function for histograms).\n",
      "\n"
     ]
    },
    {
     "data": {
      "text/plain": [
       "<AxesSubplot:title={'center':'Distribution of Total Library Size Column'}, xlabel='Total Library Size', ylabel='Density'>"
      ]
     },
     "execution_count": 18,
     "metadata": {},
     "output_type": "execute_result"
    },
    {
     "data": {
      "image/png": "[encoded data removed]",
      "text/plain": [
       "<Figure size 1152x648 with 1 Axes>"
      ]
     },
     "metadata": {
      "needs_background": "light"
     },
     "output_type": "display_data"
    }
   ],
   "source": [
    "plt.figure(figsize = (16,9))\n",
    "plt.title(\"Distribution of Total Library Size Column\")\n",
    "sns.distplot(netflix_df[\"Total Library Size\"], color = \"red\", kde=True)"
   ]
  },
  {
   "cell_type": "code",
   "execution_count": 19,
   "id": "51843297",
   "metadata": {
    "execution": {
     "iopub.execute_input": "2023-04-16T03:58:13.447568Z",
     "iopub.status.busy": "2023-04-16T03:58:13.446774Z",
     "iopub.status.idle": "2023-04-16T03:58:13.616714Z",
     "shell.execute_reply": "2023-04-16T03:58:13.617138Z",
     "shell.execute_reply.started": "2022-05-05T20:02:20.427326Z"
    },
    "papermill": {
     "duration": 0.210536,
     "end_time": "2023-04-16T03:58:13.617296",
     "exception": false,
     "start_time": "2023-04-16T03:58:13.406760",
     "status": "completed"
    },
    "tags": []
   },
   "outputs": [
    {
     "name": "stderr",
     "output_type": "stream",
     "text": [
      "/opt/conda/lib/python3.7/site-packages/seaborn/distributions.py:2619: FutureWarning:\n",
      "\n",
      "`distplot` is a deprecated function and will be removed in a future version. Please adapt your code to use either `displot` (a figure-level function with similar flexibility) or `histplot` (an axes-level function for histograms).\n",
      "\n"
     ]
    },
    {
     "data": {
      "image/png": "[encoded data removed]",
      "text/plain": [
       "<Figure size 1152x648 with 1 Axes>"
      ]
     },
     "metadata": {
      "needs_background": "light"
     },
     "output_type": "display_data"
    }
   ],
   "source": [
    "plt.figure(figsize = (16,9))\n",
    "plt.title(\"Distribution of TV Shows Column\")\n",
    "sns.distplot(netflix_df[\"No. of TV Shows\"], color = \"black\", kde = True)\n",
    "plt.show()"
   ]
  },
  {
   "cell_type": "code",
   "execution_count": 20,
   "id": "63af2b5c",
   "metadata": {
    "execution": {
     "iopub.execute_input": "2023-04-16T03:58:13.698616Z",
     "iopub.status.busy": "2023-04-16T03:58:13.697815Z",
     "iopub.status.idle": "2023-04-16T03:58:13.884135Z",
     "shell.execute_reply": "2023-04-16T03:58:13.884602Z",
     "shell.execute_reply.started": "2022-05-05T20:02:20.679525Z"
    },
    "papermill": {
     "duration": 0.228895,
     "end_time": "2023-04-16T03:58:13.884772",
     "exception": false,
     "start_time": "2023-04-16T03:58:13.655877",
     "status": "completed"
    },
    "tags": []
   },
   "outputs": [
    {
     "name": "stderr",
     "output_type": "stream",
     "text": [
      "/opt/conda/lib/python3.7/site-packages/seaborn/distributions.py:2619: FutureWarning:\n",
      "\n",
      "`distplot` is a deprecated function and will be removed in a future version. Please adapt your code to use either `displot` (a figure-level function with similar flexibility) or `histplot` (an axes-level function for histograms).\n",
      "\n"
     ]
    },
    {
     "data": {
      "image/png": "[encoded data removed]",
      "text/plain": [
       "<Figure size 1152x648 with 1 Axes>"
      ]
     },
     "metadata": {
      "needs_background": "light"
     },
     "output_type": "display_data"
    }
   ],
   "source": [
    "plt.figure(figsize = (16,9))\n",
    "plt.title(\"Distribution of Movies Column\")\n",
    "sns.distplot(netflix_df[\"No. of Movies\"], color = \"blue\", kde = True)\n",
    "plt.show()"
   ]
  },
  {
   "cell_type": "code",
   "execution_count": 21,
   "id": "795edc3f",
   "metadata": {
    "execution": {
     "iopub.execute_input": "2023-04-16T03:58:13.985520Z",
     "iopub.status.busy": "2023-04-16T03:58:13.984691Z",
     "iopub.status.idle": "2023-04-16T03:58:14.169333Z",
     "shell.execute_reply": "2023-04-16T03:58:14.169838Z",
     "shell.execute_reply.started": "2022-05-05T20:02:20.959683Z"
    },
    "papermill": {
     "duration": 0.244384,
     "end_time": "2023-04-16T03:58:14.169997",
     "exception": false,
     "start_time": "2023-04-16T03:58:13.925613",
     "status": "completed"
    },
    "tags": []
   },
   "outputs": [
    {
     "name": "stderr",
     "output_type": "stream",
     "text": [
      "/opt/conda/lib/python3.7/site-packages/seaborn/distributions.py:2619: FutureWarning:\n",
      "\n",
      "`distplot` is a deprecated function and will be removed in a future version. Please adapt your code to use either `displot` (a figure-level function with similar flexibility) or `histplot` (an axes-level function for histograms).\n",
      "\n"
     ]
    },
    {
     "data": {
      "image/png": "[encoded data removed]",
      "text/plain": [
       "<Figure size 1152x648 with 1 Axes>"
      ]
     },
     "metadata": {
      "needs_background": "light"
     },
     "output_type": "display_data"
    }
   ],
   "source": [
    "plt.figure(figsize = (16,9))\n",
    "plt.title(\"Distribution of Basic $ Column\")\n",
    "sns.distplot(netflix_df[\"Cost Per Month - Basic ($)\"], color = \"purple\", kde = True)\n",
    "plt.show()"
   ]
  },
  {
   "cell_type": "code",
   "execution_count": 22,
   "id": "735279f7",
   "metadata": {
    "execution": {
     "iopub.execute_input": "2023-04-16T03:58:14.257478Z",
     "iopub.status.busy": "2023-04-16T03:58:14.256918Z",
     "iopub.status.idle": "2023-04-16T03:58:14.508584Z",
     "shell.execute_reply": "2023-04-16T03:58:14.509016Z",
     "shell.execute_reply.started": "2022-05-05T20:02:21.248961Z"
    },
    "papermill": {
     "duration": 0.297015,
     "end_time": "2023-04-16T03:58:14.509172",
     "exception": false,
     "start_time": "2023-04-16T03:58:14.212157",
     "status": "completed"
    },
    "tags": []
   },
   "outputs": [
    {
     "name": "stderr",
     "output_type": "stream",
     "text": [
      "/opt/conda/lib/python3.7/site-packages/seaborn/distributions.py:2619: FutureWarning:\n",
      "\n",
      "`distplot` is a deprecated function and will be removed in a future version. Please adapt your code to use either `displot` (a figure-level function with similar flexibility) or `histplot` (an axes-level function for histograms).\n",
      "\n"
     ]
    },
    {
     "data": {
      "image/png": "[encoded data removed]",
      "text/plain": [
       "<Figure size 1152x648 with 1 Axes>"
      ]
     },
     "metadata": {
      "needs_background": "light"
     },
     "output_type": "display_data"
    }
   ],
   "source": [
    "plt.figure(figsize = (16,9))\n",
    "plt.title(\"Distribution of Standard $ Column\")\n",
    "sns.distplot(netflix_df[\"Cost Per Month - Standard ($)\"], color = \"aqua\", kde = True)\n",
    "plt.show()"
   ]
  },
  {
   "cell_type": "code",
   "execution_count": 23,
   "id": "14e57b50",
   "metadata": {
    "execution": {
     "iopub.execute_input": "2023-04-16T03:58:14.598183Z",
     "iopub.status.busy": "2023-04-16T03:58:14.597411Z",
     "iopub.status.idle": "2023-04-16T03:58:14.847010Z",
     "shell.execute_reply": "2023-04-16T03:58:14.847425Z",
     "shell.execute_reply.started": "2022-05-05T20:02:21.522863Z"
    },
    "papermill": {
     "duration": 0.295301,
     "end_time": "2023-04-16T03:58:14.847582",
     "exception": false,
     "start_time": "2023-04-16T03:58:14.552281",
     "status": "completed"
    },
    "tags": []
   },
   "outputs": [
    {
     "name": "stderr",
     "output_type": "stream",
     "text": [
      "/opt/conda/lib/python3.7/site-packages/seaborn/distributions.py:2619: FutureWarning:\n",
      "\n",
      "`distplot` is a deprecated function and will be removed in a future version. Please adapt your code to use either `displot` (a figure-level function with similar flexibility) or `histplot` (an axes-level function for histograms).\n",
      "\n"
     ]
    },
    {
     "data": {
      "image/png": "[encoded data removed]",
      "text/plain": [
       "<Figure size 1152x648 with 1 Axes>"
      ]
     },
     "metadata": {
      "needs_background": "light"
     },
     "output_type": "display_data"
    }
   ],
   "source": [
    "plt.figure(figsize = (16,9))\n",
    "plt.title(\"Distribution of Premium $ Column\")\n",
    "sns.distplot(netflix_df[\"Cost Per Month - Premium ($)\"], color = \"green\", kde = True)\n",
    "plt.show()"
   ]
  }
 ],
 "metadata": {
  "kernelspec": {
   "display_name": "Python 3",
   "language": "python",
   "name": "python3"
  },
  "language_info": {
   "codemirror_mode": {
    "name": "ipython",
    "version": 3
   },
   "file_extension": ".py",
   "mimetype": "text/x-python",
   "name": "python",
   "nbconvert_exporter": "python",
   "pygments_lexer": "ipython3",
   "version": "3.7.12"
  },
  "papermill": {
   "default_parameters": {},
   "duration": 16.315216,
   "end_time": "2023-04-16T03:58:15.599309",
   "environment_variables": {},
   "exception": null,
   "input_path": "__notebook__.ipynb",
   "output_path": "__notebook__.ipynb",
   "parameters": {},
   "start_time": "2023-04-16T03:57:59.284093",
   "version": "2.3.3"
  }
 },
 "nbformat": 4,
 "nbformat_minor": 5
}
